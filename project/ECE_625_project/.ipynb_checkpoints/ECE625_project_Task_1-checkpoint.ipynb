{
 "cells": [
  {
   "cell_type": "code",
   "execution_count": 18,
   "id": "e7403a24",
   "metadata": {},
   "outputs": [],
   "source": [
    "import numpy as np\n",
    "import pandas as pd\n",
    "import matplotlib.pyplot as plt\n",
    "import seaborn as sns\n",
    "import xgboost as xgb\n",
    "from sklearn.model_selection import GridSearchCV, cross_val_score\n",
    "from sklearn.preprocessing import StandardScaler\n",
    "from sklearn.linear_model import Ridge\n",
    "from sklearn.svm import SVR\n",
    "from sklearn.ensemble import RandomForestRegressor\n",
    "from sklearn.model_selection import train_test_split\n",
    "from math import sqrt\n",
    "from sklearn.metrics import mean_squared_error,r2_score"
   ]
  },
  {
   "cell_type": "code",
   "execution_count": 19,
   "id": "ba90f28c",
   "metadata": {},
   "outputs": [
    {
     "name": "stderr",
     "output_type": "stream",
     "text": [
      "E:\\Anaconda3\\envs\\py37\\lib\\site-packages\\IPython\\core\\interactiveshell.py:3166: DtypeWarning: Columns (5,10,22,31,33) have mixed types.Specify dtype option on import or set low_memory=False.\n",
      "  interactivity=interactivity, compiler=compiler, result=result)\n"
     ]
    }
   ],
   "source": [
    "fileNameStr = './EdmontonRealEstateData.csv'\n",
    "RawHouseData = pd.read_csv(fileNameStr,encoding = \"ISO-8859-1\")"
   ]
  },
  {
   "cell_type": "code",
   "execution_count": 20,
   "id": "736e5d8e",
   "metadata": {},
   "outputs": [
    {
     "data": {
      "text/plain": [
       "(71524, 36)"
      ]
     },
     "execution_count": 20,
     "metadata": {},
     "output_type": "execute_result"
    }
   ],
   "source": [
    "RawHouseData.shape"
   ]
  },
  {
   "cell_type": "code",
   "execution_count": 21,
   "id": "74c5dcc8",
   "metadata": {
    "scrolled": true
   },
   "outputs": [
    {
     "data": {
      "text/plain": [
       "<bound method DataFrame.info of        taxroll_number                    landuse_description  \\\n",
       "0            10195787       100% TELEPHONE/TELEGRAPH - OTHER   \n",
       "1            10195786            100% SINGLE FAMILY DWELLING   \n",
       "2            10195785            100% SINGLE FAMILY DWELLING   \n",
       "3            10195784            100% SINGLE FAMILY DWELLING   \n",
       "4            10195783            100% SINGLE FAMILY DWELLING   \n",
       "...               ...                                    ...   \n",
       "71519         1113729                 100% FRMLD SUBDIV UNIT   \n",
       "71520         1113752                   100% FARMLAND VACANT   \n",
       "71521         3811221  100% TELEPHONE EXCHANGE \\u0026 OFFICE   \n",
       "71522         9997333                 100% FRMLD SUBDIV UNIT   \n",
       "71523         9951504                 100% FRMLD SUBDIV UNIT   \n",
       "\n",
       "            building_name   market_building_class property_type  \\\n",
       "0      TELUS COMM STATION         COMPUTER CENTER         URBAN   \n",
       "1                     NaN  2 STOREY WITH BASEMENT   RESIDENTIAL   \n",
       "2                     NaN  2 STOREY WITH BASEMENT   RESIDENTIAL   \n",
       "3                     NaN  2 STOREY WITH BASEMENT   RESIDENTIAL   \n",
       "4                     NaN  2 STOREY WITH BASEMENT   RESIDENTIAL   \n",
       "...                   ...                     ...           ...   \n",
       "71519                 NaN                     NaN   AGRICULTURE   \n",
       "71520                 NaN                     NaN   AGRICULTURE   \n",
       "71521               TELUS         COMPUTER CENTER         URBAN   \n",
       "71522                 NaN                     NaN   AGRICULTURE   \n",
       "71523                 NaN                     NaN   AGRICULTURE   \n",
       "\n",
       "      effective_build_year  net_area basement_finished has_garage  \\\n",
       "0                     2012   139.540                NO         NO   \n",
       "1                     2011   188.500               Yes        Yes   \n",
       "2                     2011   178.000                NO        Yes   \n",
       "3                     2011   178.300                NO        Yes   \n",
       "4                     2010   182.800                NO        Yes   \n",
       "...                    ...       ...               ...        ...   \n",
       "71519                  NaN     0.000                NO         NO   \n",
       "71520                  NaN     0.000                NO         NO   \n",
       "71521               1992.0   239.682                NO         NO   \n",
       "71522                  NaN     0.000                NO         NO   \n",
       "71523                  NaN     0.000                NO         NO   \n",
       "\n",
       "      has_fireplace  ...    valuation_group  display_type  site_coverage  \\\n",
       "0                NO  ...    SPECIAL PURPOSE        NONRES            17%   \n",
       "1               Yes  ...  RESIDENTIAL SOUTH           RES            25%   \n",
       "2               Yes  ...  RESIDENTIAL SOUTH           RES            29%   \n",
       "3               Yes  ...  RESIDENTIAL SOUTH           RES            31%   \n",
       "4               Yes  ...  RESIDENTIAL SOUTH           RES            33%   \n",
       "...             ...  ...                ...           ...            ...   \n",
       "71519            NO  ...               LAND           RES            NaN   \n",
       "71520            NO  ...               LAND        NONRES            NaN   \n",
       "71521            NO  ...    SPECIAL PURPOSE        NONRES            26%   \n",
       "71522            NO  ...               LAND           RES            NaN   \n",
       "71523            NO  ...               LAND           RES            NaN   \n",
       "\n",
       "      tot_gross_area_description  \\\n",
       "0           139.54 M2 / 1502 FT2   \n",
       "1          227.5 M2 / 2448.8 FT2   \n",
       "2          215.6 M2 / 2320.7 FT2   \n",
       "3          217.1 M2 / 2336.8 FT2   \n",
       "4            226 M2 / 2432.6 FT2   \n",
       "...                          ...   \n",
       "71519               0 M2 / 0 FT2   \n",
       "71520               0 M2 / 0 FT2   \n",
       "71521    239.682 M2 / 2579.9 FT2   \n",
       "71522               0 M2 / 0 FT2   \n",
       "71523               0 M2 / 0 FT2   \n",
       "\n",
       "                                                geometry result_code  \\\n",
       "0      {\\type\\\": \\\"Polygon\\\",\\\"coordinates\\\":[[[37824...        1110   \n",
       "1      {\\type\\\": \\\"Polygon\\\",\\\"coordinates\\\":[[[37833...        1110   \n",
       "2      {\\type\\\": \\\"Polygon\\\",\\\"coordinates\\\":[[[37812...        1110   \n",
       "3      {\\type\\\": \\\"Polygon\\\",\\\"coordinates\\\":[[[37799...        1110   \n",
       "4      {\\type\\\": \\\"Polygon\\\",\\\"coordinates\\\":[[[37788...        1110   \n",
       "...                                                  ...         ...   \n",
       "71519  {\\type\\\": \\\"Polygon\\\",\\\"coordinates\\\":[[[19368...        1110   \n",
       "71520  {\\type\\\": \\\"Polygon\\\",\\\"coordinates\\\":[[[19799...        1110   \n",
       "71521  {\\type\\\": \\\"Polygon\\\",\\\"coordinates\\\":[[[21441...        1110   \n",
       "71522  {\\type\\\": \\\"Polygon\\\",\\\"coordinates\\\":[[[21738...        1110   \n",
       "71523  {\\type\\\": \\\"Polygon\\\",\\\"coordinates\\\":[[[21424...        1110   \n",
       "\n",
       "         result_message result_description         lon        lat  \n",
       "0      Assessment found                NaN -113.430747  53.424591  \n",
       "1      Assessment found                NaN -113.430993  53.424599  \n",
       "2      Assessment found                NaN -113.431231  53.424560  \n",
       "3      Assessment found                NaN -113.431416  53.424549  \n",
       "4      Assessment found                NaN -113.431579  53.424548  \n",
       "...                 ...                ...         ...        ...  \n",
       "71519  Assessment found                NaN -113.705613  53.539112  \n",
       "71520  Assessment found                NaN -113.707350  53.545076  \n",
       "71521  Assessment found                NaN -113.676876  53.513268  \n",
       "71522  Assessment found                NaN -113.674157  53.574518  \n",
       "71523  Assessment found                NaN -113.680415  53.575059  \n",
       "\n",
       "[71524 rows x 36 columns]>"
      ]
     },
     "execution_count": 21,
     "metadata": {},
     "output_type": "execute_result"
    }
   ],
   "source": [
    "RawHouseData.info\n"
   ]
  },
  {
   "cell_type": "code",
   "execution_count": 22,
   "id": "dd5bd70c",
   "metadata": {},
   "outputs": [],
   "source": [
    "RawHouseData = RawHouseData.drop(['house_suit','house_suff','street_name','postal_code','city',\\\n",
    "'full_address','building_name','landuse_description','result_description','geometry',\\\n",
    "'valuation_group','neighbourhood','build_year_mbc','result_message','result_code',\\\n",
    "'result_description','display_type','lot_size','house_number','market_building_class'],axis=1)"
   ]
  },
  {
   "cell_type": "code",
   "execution_count": 23,
   "id": "4e1ac36a",
   "metadata": {},
   "outputs": [
    {
     "data": {
      "text/plain": [
       "(64019, 17)"
      ]
     },
     "execution_count": 23,
     "metadata": {},
     "output_type": "execute_result"
    }
   ],
   "source": [
    "RawHouseData = RawHouseData.loc[RawHouseData.loc[:,'net_area']>0,:]\n",
    "RawHouseData = RawHouseData.loc[RawHouseData.loc[:,'effective_build_year'] != '',:]\n",
    "RawHouseData = RawHouseData.loc[RawHouseData.loc[:,'assessed_value'] != '0',:]\n",
    "RawHouseData.shape"
   ]
  },
  {
   "cell_type": "code",
   "execution_count": 24,
   "id": "5e24a862",
   "metadata": {},
   "outputs": [
    {
     "data": {
      "text/plain": [
       "taxroll_number                  int64\n",
       "property_type                  object\n",
       "effective_build_year           object\n",
       "net_area                      float64\n",
       "basement_finished              object\n",
       "has_garage                     object\n",
       "has_fireplace                  object\n",
       "assessed_value                 object\n",
       "fully_taxable                  object\n",
       "fully_complete                 object\n",
       "building_count                 object\n",
       "walkout_basement               object\n",
       "air_conditioning               object\n",
       "site_coverage                  object\n",
       "tot_gross_area_description     object\n",
       "lon                           float64\n",
       "lat                           float64\n",
       "dtype: object"
      ]
     },
     "execution_count": 24,
     "metadata": {},
     "output_type": "execute_result"
    }
   ],
   "source": [
    "RawHouseData.dtypes"
   ]
  },
  {
   "cell_type": "code",
   "execution_count": 25,
   "id": "19aafeaf",
   "metadata": {},
   "outputs": [
    {
     "data": {
      "text/plain": [
       "site_coverage                 1310\n",
       "fully_complete                  28\n",
       "effective_build_year             4\n",
       "taxroll_number                   0\n",
       "lon                              0\n",
       "tot_gross_area_description       0\n",
       "air_conditioning                 0\n",
       "walkout_basement                 0\n",
       "building_count                   0\n",
       "fully_taxable                    0\n",
       "property_type                    0\n",
       "assessed_value                   0\n",
       "has_fireplace                    0\n",
       "has_garage                       0\n",
       "basement_finished                0\n",
       "net_area                         0\n",
       "lat                              0\n",
       "dtype: int64"
      ]
     },
     "execution_count": 25,
     "metadata": {},
     "output_type": "execute_result"
    }
   ],
   "source": [
    "RawHouseData.isnull().sum().sort_values(ascending=False)"
   ]
  },
  {
   "cell_type": "code",
   "execution_count": 26,
   "id": "10666e2e",
   "metadata": {},
   "outputs": [
    {
     "data": {
      "text/plain": [
       "(62703, 17)"
      ]
     },
     "execution_count": 26,
     "metadata": {},
     "output_type": "execute_result"
    }
   ],
   "source": [
    "RawHouseData=RawHouseData.dropna()\n",
    "RawHouseData.shape"
   ]
  },
  {
   "cell_type": "code",
   "execution_count": 27,
   "id": "0da59068",
   "metadata": {},
   "outputs": [
    {
     "data": {
      "text/plain": [
       "taxroll_number                0\n",
       "fully_complete                0\n",
       "lon                           0\n",
       "tot_gross_area_description    0\n",
       "site_coverage                 0\n",
       "air_conditioning              0\n",
       "walkout_basement              0\n",
       "building_count                0\n",
       "fully_taxable                 0\n",
       "property_type                 0\n",
       "assessed_value                0\n",
       "has_fireplace                 0\n",
       "has_garage                    0\n",
       "basement_finished             0\n",
       "net_area                      0\n",
       "effective_build_year          0\n",
       "lat                           0\n",
       "dtype: int64"
      ]
     },
     "execution_count": 27,
     "metadata": {},
     "output_type": "execute_result"
    }
   ],
   "source": [
    "RawHouseData.isnull().sum().sort_values(ascending=False)"
   ]
  },
  {
   "cell_type": "code",
   "execution_count": 28,
   "id": "de03a870",
   "metadata": {},
   "outputs": [
    {
     "data": {
      "text/html": [
       "<div>\n",
       "<style scoped>\n",
       "    .dataframe tbody tr th:only-of-type {\n",
       "        vertical-align: middle;\n",
       "    }\n",
       "\n",
       "    .dataframe tbody tr th {\n",
       "        vertical-align: top;\n",
       "    }\n",
       "\n",
       "    .dataframe thead th {\n",
       "        text-align: right;\n",
       "    }\n",
       "</style>\n",
       "<table border=\"1\" class=\"dataframe\">\n",
       "  <thead>\n",
       "    <tr style=\"text-align: right;\">\n",
       "      <th></th>\n",
       "      <th>taxroll_number</th>\n",
       "      <th>property_type</th>\n",
       "      <th>effective_build_year</th>\n",
       "      <th>net_area</th>\n",
       "      <th>basement_finished</th>\n",
       "      <th>has_garage</th>\n",
       "      <th>has_fireplace</th>\n",
       "      <th>assessed_value</th>\n",
       "      <th>fully_taxable</th>\n",
       "      <th>fully_complete</th>\n",
       "      <th>building_count</th>\n",
       "      <th>walkout_basement</th>\n",
       "      <th>air_conditioning</th>\n",
       "      <th>site_coverage</th>\n",
       "      <th>tot_gross_area_description</th>\n",
       "      <th>lon</th>\n",
       "      <th>lat</th>\n",
       "    </tr>\n",
       "  </thead>\n",
       "  <tbody>\n",
       "    <tr>\n",
       "      <th>0</th>\n",
       "      <td>10195787</td>\n",
       "      <td>URBAN</td>\n",
       "      <td>2012</td>\n",
       "      <td>139.540</td>\n",
       "      <td>NO</td>\n",
       "      <td>NO</td>\n",
       "      <td>NO</td>\n",
       "      <td>331000</td>\n",
       "      <td>Yes</td>\n",
       "      <td>Yes</td>\n",
       "      <td>1</td>\n",
       "      <td>NO</td>\n",
       "      <td>Yes</td>\n",
       "      <td>17%</td>\n",
       "      <td>139.54 M2 / 1502 FT2</td>\n",
       "      <td>-113.430747</td>\n",
       "      <td>53.424591</td>\n",
       "    </tr>\n",
       "    <tr>\n",
       "      <th>1</th>\n",
       "      <td>10195786</td>\n",
       "      <td>RESIDENTIAL</td>\n",
       "      <td>2011</td>\n",
       "      <td>188.500</td>\n",
       "      <td>Yes</td>\n",
       "      <td>Yes</td>\n",
       "      <td>Yes</td>\n",
       "      <td>470500</td>\n",
       "      <td>Yes</td>\n",
       "      <td>Yes</td>\n",
       "      <td>1</td>\n",
       "      <td>NO</td>\n",
       "      <td>NO</td>\n",
       "      <td>25%</td>\n",
       "      <td>227.5 M2 / 2448.8 FT2</td>\n",
       "      <td>-113.430993</td>\n",
       "      <td>53.424599</td>\n",
       "    </tr>\n",
       "    <tr>\n",
       "      <th>2</th>\n",
       "      <td>10195785</td>\n",
       "      <td>RESIDENTIAL</td>\n",
       "      <td>2011</td>\n",
       "      <td>178.000</td>\n",
       "      <td>NO</td>\n",
       "      <td>Yes</td>\n",
       "      <td>Yes</td>\n",
       "      <td>442500</td>\n",
       "      <td>Yes</td>\n",
       "      <td>Yes</td>\n",
       "      <td>1</td>\n",
       "      <td>NO</td>\n",
       "      <td>NO</td>\n",
       "      <td>29%</td>\n",
       "      <td>215.6 M2 / 2320.7 FT2</td>\n",
       "      <td>-113.431231</td>\n",
       "      <td>53.424560</td>\n",
       "    </tr>\n",
       "    <tr>\n",
       "      <th>3</th>\n",
       "      <td>10195784</td>\n",
       "      <td>RESIDENTIAL</td>\n",
       "      <td>2011</td>\n",
       "      <td>178.300</td>\n",
       "      <td>NO</td>\n",
       "      <td>Yes</td>\n",
       "      <td>Yes</td>\n",
       "      <td>448000</td>\n",
       "      <td>Yes</td>\n",
       "      <td>Yes</td>\n",
       "      <td>1</td>\n",
       "      <td>NO</td>\n",
       "      <td>NO</td>\n",
       "      <td>31%</td>\n",
       "      <td>217.1 M2 / 2336.8 FT2</td>\n",
       "      <td>-113.431416</td>\n",
       "      <td>53.424549</td>\n",
       "    </tr>\n",
       "    <tr>\n",
       "      <th>4</th>\n",
       "      <td>10195783</td>\n",
       "      <td>RESIDENTIAL</td>\n",
       "      <td>2010</td>\n",
       "      <td>182.800</td>\n",
       "      <td>NO</td>\n",
       "      <td>Yes</td>\n",
       "      <td>Yes</td>\n",
       "      <td>447500</td>\n",
       "      <td>Yes</td>\n",
       "      <td>Yes</td>\n",
       "      <td>1</td>\n",
       "      <td>NO</td>\n",
       "      <td>NO</td>\n",
       "      <td>33%</td>\n",
       "      <td>226 M2 / 2432.6 FT2</td>\n",
       "      <td>-113.431579</td>\n",
       "      <td>53.424548</td>\n",
       "    </tr>\n",
       "    <tr>\n",
       "      <th>...</th>\n",
       "      <td>...</td>\n",
       "      <td>...</td>\n",
       "      <td>...</td>\n",
       "      <td>...</td>\n",
       "      <td>...</td>\n",
       "      <td>...</td>\n",
       "      <td>...</td>\n",
       "      <td>...</td>\n",
       "      <td>...</td>\n",
       "      <td>...</td>\n",
       "      <td>...</td>\n",
       "      <td>...</td>\n",
       "      <td>...</td>\n",
       "      <td>...</td>\n",
       "      <td>...</td>\n",
       "      <td>...</td>\n",
       "      <td>...</td>\n",
       "    </tr>\n",
       "    <tr>\n",
       "      <th>71514</th>\n",
       "      <td>1116730</td>\n",
       "      <td>INDUSTRIAL</td>\n",
       "      <td>1973.0</td>\n",
       "      <td>36.880</td>\n",
       "      <td>NO</td>\n",
       "      <td>NO</td>\n",
       "      <td>NO</td>\n",
       "      <td>584500</td>\n",
       "      <td>Yes</td>\n",
       "      <td>Yes</td>\n",
       "      <td>3</td>\n",
       "      <td>NO</td>\n",
       "      <td>NO</td>\n",
       "      <td>9%</td>\n",
       "      <td>310.261 M2 / 3339.6 FT2</td>\n",
       "      <td>-113.694162</td>\n",
       "      <td>53.540649</td>\n",
       "    </tr>\n",
       "    <tr>\n",
       "      <th>71515</th>\n",
       "      <td>1116854</td>\n",
       "      <td>INDUSTRIAL</td>\n",
       "      <td>1956.0</td>\n",
       "      <td>189.400</td>\n",
       "      <td>NO</td>\n",
       "      <td>NO</td>\n",
       "      <td>NO</td>\n",
       "      <td>1693000</td>\n",
       "      <td>Yes</td>\n",
       "      <td>Yes</td>\n",
       "      <td>3</td>\n",
       "      <td>NO</td>\n",
       "      <td>NO</td>\n",
       "      <td>2%</td>\n",
       "      <td>329.16 M2 / 3543 FT2</td>\n",
       "      <td>-113.697128</td>\n",
       "      <td>53.543054</td>\n",
       "    </tr>\n",
       "    <tr>\n",
       "      <th>71517</th>\n",
       "      <td>1116938</td>\n",
       "      <td>INDUSTRIAL</td>\n",
       "      <td>2007.0</td>\n",
       "      <td>1551.340</td>\n",
       "      <td>NO</td>\n",
       "      <td>NO</td>\n",
       "      <td>NO</td>\n",
       "      <td>2629500</td>\n",
       "      <td>Yes</td>\n",
       "      <td>Yes</td>\n",
       "      <td>1</td>\n",
       "      <td>NO</td>\n",
       "      <td>NO</td>\n",
       "      <td>14%</td>\n",
       "      <td>1551.337 M2 / 16698.5 FT2</td>\n",
       "      <td>-113.698269</td>\n",
       "      <td>53.542356</td>\n",
       "    </tr>\n",
       "    <tr>\n",
       "      <th>71518</th>\n",
       "      <td>1116896</td>\n",
       "      <td>COMMERCIAL</td>\n",
       "      <td>1985.0</td>\n",
       "      <td>686.531</td>\n",
       "      <td>NO</td>\n",
       "      <td>NO</td>\n",
       "      <td>NO</td>\n",
       "      <td>3235500</td>\n",
       "      <td>NO</td>\n",
       "      <td>Yes</td>\n",
       "      <td>5</td>\n",
       "      <td>NO</td>\n",
       "      <td>Yes</td>\n",
       "      <td>15%</td>\n",
       "      <td>1738.871 M2 / 18717.1 FT2</td>\n",
       "      <td>-113.700711</td>\n",
       "      <td>53.542362</td>\n",
       "    </tr>\n",
       "    <tr>\n",
       "      <th>71521</th>\n",
       "      <td>3811221</td>\n",
       "      <td>URBAN</td>\n",
       "      <td>1992.0</td>\n",
       "      <td>239.682</td>\n",
       "      <td>NO</td>\n",
       "      <td>NO</td>\n",
       "      <td>NO</td>\n",
       "      <td>394500</td>\n",
       "      <td>Yes</td>\n",
       "      <td>Yes</td>\n",
       "      <td>1</td>\n",
       "      <td>NO</td>\n",
       "      <td>Yes</td>\n",
       "      <td>26%</td>\n",
       "      <td>239.682 M2 / 2579.9 FT2</td>\n",
       "      <td>-113.676876</td>\n",
       "      <td>53.513268</td>\n",
       "    </tr>\n",
       "  </tbody>\n",
       "</table>\n",
       "<p>62703 rows × 17 columns</p>\n",
       "</div>"
      ],
      "text/plain": [
       "       taxroll_number property_type effective_build_year  net_area  \\\n",
       "0            10195787         URBAN                 2012   139.540   \n",
       "1            10195786   RESIDENTIAL                 2011   188.500   \n",
       "2            10195785   RESIDENTIAL                 2011   178.000   \n",
       "3            10195784   RESIDENTIAL                 2011   178.300   \n",
       "4            10195783   RESIDENTIAL                 2010   182.800   \n",
       "...               ...           ...                  ...       ...   \n",
       "71514         1116730    INDUSTRIAL               1973.0    36.880   \n",
       "71515         1116854    INDUSTRIAL               1956.0   189.400   \n",
       "71517         1116938    INDUSTRIAL               2007.0  1551.340   \n",
       "71518         1116896    COMMERCIAL               1985.0   686.531   \n",
       "71521         3811221         URBAN               1992.0   239.682   \n",
       "\n",
       "      basement_finished has_garage has_fireplace assessed_value fully_taxable  \\\n",
       "0                    NO         NO            NO         331000           Yes   \n",
       "1                   Yes        Yes           Yes         470500           Yes   \n",
       "2                    NO        Yes           Yes         442500           Yes   \n",
       "3                    NO        Yes           Yes         448000           Yes   \n",
       "4                    NO        Yes           Yes         447500           Yes   \n",
       "...                 ...        ...           ...            ...           ...   \n",
       "71514                NO         NO            NO         584500           Yes   \n",
       "71515                NO         NO            NO        1693000           Yes   \n",
       "71517                NO         NO            NO        2629500           Yes   \n",
       "71518                NO         NO            NO        3235500            NO   \n",
       "71521                NO         NO            NO         394500           Yes   \n",
       "\n",
       "      fully_complete building_count walkout_basement air_conditioning  \\\n",
       "0                Yes              1               NO              Yes   \n",
       "1                Yes              1               NO               NO   \n",
       "2                Yes              1               NO               NO   \n",
       "3                Yes              1               NO               NO   \n",
       "4                Yes              1               NO               NO   \n",
       "...              ...            ...              ...              ...   \n",
       "71514            Yes              3               NO               NO   \n",
       "71515            Yes              3               NO               NO   \n",
       "71517            Yes              1               NO               NO   \n",
       "71518            Yes              5               NO              Yes   \n",
       "71521            Yes              1               NO              Yes   \n",
       "\n",
       "      site_coverage tot_gross_area_description         lon        lat  \n",
       "0               17%       139.54 M2 / 1502 FT2 -113.430747  53.424591  \n",
       "1               25%      227.5 M2 / 2448.8 FT2 -113.430993  53.424599  \n",
       "2               29%      215.6 M2 / 2320.7 FT2 -113.431231  53.424560  \n",
       "3               31%      217.1 M2 / 2336.8 FT2 -113.431416  53.424549  \n",
       "4               33%        226 M2 / 2432.6 FT2 -113.431579  53.424548  \n",
       "...             ...                        ...         ...        ...  \n",
       "71514            9%    310.261 M2 / 3339.6 FT2 -113.694162  53.540649  \n",
       "71515            2%       329.16 M2 / 3543 FT2 -113.697128  53.543054  \n",
       "71517           14%  1551.337 M2 / 16698.5 FT2 -113.698269  53.542356  \n",
       "71518           15%  1738.871 M2 / 18717.1 FT2 -113.700711  53.542362  \n",
       "71521           26%    239.682 M2 / 2579.9 FT2 -113.676876  53.513268  \n",
       "\n",
       "[62703 rows x 17 columns]"
      ]
     },
     "execution_count": 28,
     "metadata": {},
     "output_type": "execute_result"
    }
   ],
   "source": [
    "RawHouseData"
   ]
  },
  {
   "cell_type": "code",
   "execution_count": 29,
   "id": "4dfd3de7",
   "metadata": {},
   "outputs": [
    {
     "data": {
      "text/plain": [
       "array(['URBAN', 'RESIDENTIAL', 'MULTI-RES', 'COMMERCIAL', 'INDUSTRIAL',\n",
       "       'AGRICULTURE'], dtype=object)"
      ]
     },
     "execution_count": 29,
     "metadata": {},
     "output_type": "execute_result"
    }
   ],
   "source": [
    "RawHouseData['property_type'].unique()"
   ]
  },
  {
   "cell_type": "code",
   "execution_count": 30,
   "id": "6f8398d9",
   "metadata": {},
   "outputs": [],
   "source": [
    "RawHouseData.loc[RawHouseData['basement_finished']=='NO','basement_finished']=0\n",
    "RawHouseData.loc[RawHouseData['basement_finished']=='Yes','basement_finished']=1\n",
    "RawHouseData['basement_finished']=RawHouseData['basement_finished'].astype('int')\n",
    "\n",
    "RawHouseData.loc[RawHouseData['has_garage']=='NO','has_garage']=0\n",
    "RawHouseData.loc[RawHouseData['has_garage']=='Yes','has_garage']=1\n",
    "RawHouseData['has_garage']=RawHouseData['has_garage'].astype('int')\n",
    "\n",
    "RawHouseData.loc[RawHouseData['has_fireplace']=='NO','has_fireplace']=0\n",
    "RawHouseData.loc[RawHouseData['has_fireplace']=='Yes','has_fireplace']=1\n",
    "RawHouseData['has_fireplace']=RawHouseData['has_fireplace'].astype('int')\n",
    "\n",
    "RawHouseData.loc[RawHouseData['fully_taxable']=='NO','fully_taxable']=0\n",
    "RawHouseData.loc[RawHouseData['fully_taxable']=='Yes','fully_taxable']=1\n",
    "RawHouseData['fully_taxable']=RawHouseData['fully_taxable'].astype('int')\n",
    "\n",
    "RawHouseData.loc[RawHouseData['fully_complete']=='NO','fully_complete']=0\n",
    "RawHouseData.loc[RawHouseData['fully_complete']=='Yes','fully_complete']=1\n",
    "RawHouseData['fully_complete']=RawHouseData['fully_complete'].astype('int')\n",
    "\n",
    "RawHouseData.loc[RawHouseData['walkout_basement']=='NO','walkout_basement']=0\n",
    "RawHouseData.loc[RawHouseData['walkout_basement']=='Yes','walkout_basement']=1\n",
    "RawHouseData['walkout_basement']=RawHouseData['walkout_basement'].astype('int')\n",
    "\n",
    "RawHouseData.loc[RawHouseData['air_conditioning']=='NO','air_conditioning']=0\n",
    "RawHouseData.loc[RawHouseData['air_conditioning']=='Yes','air_conditioning']=1\n",
    "RawHouseData['air_conditioning']=RawHouseData['air_conditioning'].astype('int')\n",
    "\n",
    "RawHouseData.loc[RawHouseData['property_type']=='URBAN','property_type']=1\n",
    "RawHouseData.loc[RawHouseData['property_type']=='RESIDENTIAL','property_type']=2\n",
    "RawHouseData.loc[RawHouseData['property_type']=='MULTI-RES','property_type']=3\n",
    "RawHouseData.loc[RawHouseData['property_type']=='COMMERCIAL','property_type']=4\n",
    "RawHouseData.loc[RawHouseData['property_type']=='INDUSTRIAL','property_type']=5\n",
    "RawHouseData.loc[RawHouseData['property_type']=='AGRICULTURE','property_type']=6\n",
    "RawHouseData['property_type']=RawHouseData['property_type'].astype('int')\n",
    "\n",
    "m = RawHouseData['site_coverage'].str.contains('\\d+%')\n",
    "RawHouseData['site_coverage'] = \\\n",
    "    RawHouseData['site_coverage'].str.extract('(\\d+)', expand=False).astype(float)\n",
    "RawHouseData.loc[m, 'site_coverage'] *= 0.01\n",
    "\n",
    "m = RawHouseData['tot_gross_area_description'].str.contains('\\d+.')\n",
    "RawHouseData['tot_gross_area_description'] = \\\n",
    "    RawHouseData['tot_gross_area_description'].str.extract('(\\d+)', expand=False).astype(float)\n",
    "RawHouseData.loc[m, 'tot_gross_area_description'] *= 1\n",
    "\n",
    "RawHouseData['assessed_value'] = RawHouseData['assessed_value'].astype('float')\n",
    "RawHouseData['effective_build_year'] = RawHouseData['effective_build_year'].astype('int')\n",
    "RawHouseData['building_count'] = RawHouseData['building_count'].astype('int')"
   ]
  },
  {
   "cell_type": "code",
   "execution_count": 31,
   "id": "677aee19",
   "metadata": {},
   "outputs": [],
   "source": [
    "from sklearn.preprocessing import OneHotEncoder\n",
    "from category_encoders import OneHotEncoder\n",
    "from sklearn.preprocessing import LabelEncoder"
   ]
  },
  {
   "cell_type": "code",
   "execution_count": 32,
   "id": "e6bf69f4",
   "metadata": {},
   "outputs": [
    {
     "name": "stdout",
     "output_type": "stream",
     "text": [
      "<class 'pandas.core.frame.DataFrame'>\n",
      "Int64Index: 62703 entries, 0 to 71521\n",
      "Data columns (total 17 columns):\n",
      " #   Column                      Non-Null Count  Dtype  \n",
      "---  ------                      --------------  -----  \n",
      " 0   taxroll_number              62703 non-null  int64  \n",
      " 1   property_type               62703 non-null  int32  \n",
      " 2   effective_build_year        62703 non-null  int32  \n",
      " 3   net_area                    62703 non-null  float64\n",
      " 4   basement_finished           62703 non-null  int32  \n",
      " 5   has_garage                  62703 non-null  int32  \n",
      " 6   has_fireplace               62703 non-null  int32  \n",
      " 7   assessed_value              62703 non-null  float64\n",
      " 8   fully_taxable               62703 non-null  int32  \n",
      " 9   fully_complete              62703 non-null  int32  \n",
      " 10  building_count              62703 non-null  int32  \n",
      " 11  walkout_basement            62703 non-null  int32  \n",
      " 12  air_conditioning            62703 non-null  int32  \n",
      " 13  site_coverage               62703 non-null  float64\n",
      " 14  tot_gross_area_description  62703 non-null  float64\n",
      " 15  lon                         62703 non-null  float64\n",
      " 16  lat                         62703 non-null  float64\n",
      "dtypes: float64(6), int32(10), int64(1)\n",
      "memory usage: 6.2 MB\n"
     ]
    }
   ],
   "source": [
    "RawHouseData.info()"
   ]
  },
  {
   "cell_type": "code",
   "execution_count": null,
   "id": "3111bc30",
   "metadata": {},
   "outputs": [],
   "source": []
  },
  {
   "cell_type": "code",
   "execution_count": null,
   "id": "de8c2f8a",
   "metadata": {},
   "outputs": [],
   "source": []
  },
  {
   "cell_type": "code",
   "execution_count": null,
   "id": "e3370b03",
   "metadata": {},
   "outputs": [],
   "source": []
  },
  {
   "cell_type": "code",
   "execution_count": null,
   "id": "cd276369",
   "metadata": {},
   "outputs": [],
   "source": []
  },
  {
   "cell_type": "code",
   "execution_count": null,
   "id": "6fa6559c",
   "metadata": {},
   "outputs": [],
   "source": []
  },
  {
   "cell_type": "code",
   "execution_count": 33,
   "id": "cc87ee11",
   "metadata": {},
   "outputs": [],
   "source": [
    "RawHouseData = RawHouseData.loc[RawHouseData.loc[:,'net_area'] > 1,:]\n",
    "RawHouseData = RawHouseData.loc[RawHouseData.loc[:,'effective_build_year'] != 0,:]\n",
    "RawHouseData = RawHouseData.loc[RawHouseData.loc[:,'assessed_value'] > 0,:]"
   ]
  },
  {
   "cell_type": "code",
   "execution_count": 34,
   "id": "efd6ff94",
   "metadata": {},
   "outputs": [
    {
     "data": {
      "text/plain": [
       "(62603, 17)"
      ]
     },
     "execution_count": 34,
     "metadata": {},
     "output_type": "execute_result"
    }
   ],
   "source": [
    "RawHouseData.shape"
   ]
  },
  {
   "cell_type": "code",
   "execution_count": 35,
   "id": "1751b668",
   "metadata": {},
   "outputs": [
    {
     "data": {
      "text/html": [
       "<div>\n",
       "<style scoped>\n",
       "    .dataframe tbody tr th:only-of-type {\n",
       "        vertical-align: middle;\n",
       "    }\n",
       "\n",
       "    .dataframe tbody tr th {\n",
       "        vertical-align: top;\n",
       "    }\n",
       "\n",
       "    .dataframe thead th {\n",
       "        text-align: right;\n",
       "    }\n",
       "</style>\n",
       "<table border=\"1\" class=\"dataframe\">\n",
       "  <thead>\n",
       "    <tr style=\"text-align: right;\">\n",
       "      <th></th>\n",
       "      <th>taxroll_number</th>\n",
       "      <th>property_type</th>\n",
       "      <th>effective_build_year</th>\n",
       "      <th>net_area</th>\n",
       "      <th>basement_finished</th>\n",
       "      <th>has_garage</th>\n",
       "      <th>has_fireplace</th>\n",
       "      <th>assessed_value</th>\n",
       "      <th>fully_taxable</th>\n",
       "      <th>fully_complete</th>\n",
       "      <th>building_count</th>\n",
       "      <th>walkout_basement</th>\n",
       "      <th>air_conditioning</th>\n",
       "      <th>site_coverage</th>\n",
       "      <th>tot_gross_area_description</th>\n",
       "      <th>lon</th>\n",
       "      <th>lat</th>\n",
       "    </tr>\n",
       "  </thead>\n",
       "  <tbody>\n",
       "    <tr>\n",
       "      <th>count</th>\n",
       "      <td>6.260300e+04</td>\n",
       "      <td>62603.000000</td>\n",
       "      <td>62603.000000</td>\n",
       "      <td>62603.000000</td>\n",
       "      <td>62603.000000</td>\n",
       "      <td>62603.000000</td>\n",
       "      <td>62603.000000</td>\n",
       "      <td>6.260300e+04</td>\n",
       "      <td>62603.000000</td>\n",
       "      <td>62603.000000</td>\n",
       "      <td>62603.000000</td>\n",
       "      <td>62603.000000</td>\n",
       "      <td>62603.000000</td>\n",
       "      <td>62603.000000</td>\n",
       "      <td>62603.000000</td>\n",
       "      <td>62603.000000</td>\n",
       "      <td>62603.000000</td>\n",
       "    </tr>\n",
       "    <tr>\n",
       "      <th>mean</th>\n",
       "      <td>7.021806e+06</td>\n",
       "      <td>2.345958</td>\n",
       "      <td>1986.854017</td>\n",
       "      <td>379.909745</td>\n",
       "      <td>0.445490</td>\n",
       "      <td>0.784547</td>\n",
       "      <td>0.611297</td>\n",
       "      <td>8.954259e+05</td>\n",
       "      <td>0.991454</td>\n",
       "      <td>0.983355</td>\n",
       "      <td>1.070013</td>\n",
       "      <td>0.041324</td>\n",
       "      <td>0.093158</td>\n",
       "      <td>0.268380</td>\n",
       "      <td>450.108621</td>\n",
       "      <td>-113.515785</td>\n",
       "      <td>53.516083</td>\n",
       "    </tr>\n",
       "    <tr>\n",
       "      <th>std</th>\n",
       "      <td>3.280046e+06</td>\n",
       "      <td>0.838908</td>\n",
       "      <td>18.418935</td>\n",
       "      <td>1883.852566</td>\n",
       "      <td>0.497024</td>\n",
       "      <td>0.411139</td>\n",
       "      <td>0.487460</td>\n",
       "      <td>7.591811e+06</td>\n",
       "      <td>0.092049</td>\n",
       "      <td>0.127937</td>\n",
       "      <td>0.776131</td>\n",
       "      <td>0.199040</td>\n",
       "      <td>0.290657</td>\n",
       "      <td>0.200333</td>\n",
       "      <td>2266.909334</td>\n",
       "      <td>0.086799</td>\n",
       "      <td>0.067424</td>\n",
       "    </tr>\n",
       "    <tr>\n",
       "      <th>min</th>\n",
       "      <td>1.001163e+06</td>\n",
       "      <td>1.000000</td>\n",
       "      <td>1904.000000</td>\n",
       "      <td>1.115000</td>\n",
       "      <td>0.000000</td>\n",
       "      <td>0.000000</td>\n",
       "      <td>0.000000</td>\n",
       "      <td>5.000000e+02</td>\n",
       "      <td>0.000000</td>\n",
       "      <td>0.000000</td>\n",
       "      <td>1.000000</td>\n",
       "      <td>0.000000</td>\n",
       "      <td>0.000000</td>\n",
       "      <td>0.000000</td>\n",
       "      <td>1.000000</td>\n",
       "      <td>-113.712894</td>\n",
       "      <td>53.396061</td>\n",
       "    </tr>\n",
       "    <tr>\n",
       "      <th>25%</th>\n",
       "      <td>3.929040e+06</td>\n",
       "      <td>2.000000</td>\n",
       "      <td>1974.000000</td>\n",
       "      <td>109.000000</td>\n",
       "      <td>0.000000</td>\n",
       "      <td>1.000000</td>\n",
       "      <td>0.000000</td>\n",
       "      <td>3.425000e+05</td>\n",
       "      <td>1.000000</td>\n",
       "      <td>1.000000</td>\n",
       "      <td>1.000000</td>\n",
       "      <td>0.000000</td>\n",
       "      <td>0.000000</td>\n",
       "      <td>0.190000</td>\n",
       "      <td>147.000000</td>\n",
       "      <td>-113.581202</td>\n",
       "      <td>53.460670</td>\n",
       "    </tr>\n",
       "    <tr>\n",
       "      <th>50%</th>\n",
       "      <td>8.376329e+06</td>\n",
       "      <td>2.000000</td>\n",
       "      <td>1987.000000</td>\n",
       "      <td>142.600000</td>\n",
       "      <td>0.000000</td>\n",
       "      <td>1.000000</td>\n",
       "      <td>1.000000</td>\n",
       "      <td>4.255000e+05</td>\n",
       "      <td>1.000000</td>\n",
       "      <td>1.000000</td>\n",
       "      <td>1.000000</td>\n",
       "      <td>0.000000</td>\n",
       "      <td>0.000000</td>\n",
       "      <td>0.260000</td>\n",
       "      <td>184.000000</td>\n",
       "      <td>-113.517500</td>\n",
       "      <td>53.503051</td>\n",
       "    </tr>\n",
       "    <tr>\n",
       "      <th>75%</th>\n",
       "      <td>1.000662e+07</td>\n",
       "      <td>2.000000</td>\n",
       "      <td>2004.000000</td>\n",
       "      <td>203.128000</td>\n",
       "      <td>1.000000</td>\n",
       "      <td>1.000000</td>\n",
       "      <td>1.000000</td>\n",
       "      <td>5.665000e+05</td>\n",
       "      <td>1.000000</td>\n",
       "      <td>1.000000</td>\n",
       "      <td>1.000000</td>\n",
       "      <td>0.000000</td>\n",
       "      <td>0.000000</td>\n",
       "      <td>0.320000</td>\n",
       "      <td>249.000000</td>\n",
       "      <td>-113.439063</td>\n",
       "      <td>53.576356</td>\n",
       "    </tr>\n",
       "    <tr>\n",
       "      <th>max</th>\n",
       "      <td>1.069713e+07</td>\n",
       "      <td>6.000000</td>\n",
       "      <td>2014.000000</td>\n",
       "      <td>119965.000000</td>\n",
       "      <td>1.000000</td>\n",
       "      <td>1.000000</td>\n",
       "      <td>1.000000</td>\n",
       "      <td>1.527078e+09</td>\n",
       "      <td>1.000000</td>\n",
       "      <td>1.000000</td>\n",
       "      <td>84.000000</td>\n",
       "      <td>1.000000</td>\n",
       "      <td>1.000000</td>\n",
       "      <td>9.990000</td>\n",
       "      <td>201260.000000</td>\n",
       "      <td>-113.281236</td>\n",
       "      <td>53.715149</td>\n",
       "    </tr>\n",
       "  </tbody>\n",
       "</table>\n",
       "</div>"
      ],
      "text/plain": [
       "       taxroll_number  property_type  effective_build_year       net_area  \\\n",
       "count    6.260300e+04   62603.000000          62603.000000   62603.000000   \n",
       "mean     7.021806e+06       2.345958           1986.854017     379.909745   \n",
       "std      3.280046e+06       0.838908             18.418935    1883.852566   \n",
       "min      1.001163e+06       1.000000           1904.000000       1.115000   \n",
       "25%      3.929040e+06       2.000000           1974.000000     109.000000   \n",
       "50%      8.376329e+06       2.000000           1987.000000     142.600000   \n",
       "75%      1.000662e+07       2.000000           2004.000000     203.128000   \n",
       "max      1.069713e+07       6.000000           2014.000000  119965.000000   \n",
       "\n",
       "       basement_finished    has_garage  has_fireplace  assessed_value  \\\n",
       "count       62603.000000  62603.000000   62603.000000    6.260300e+04   \n",
       "mean            0.445490      0.784547       0.611297    8.954259e+05   \n",
       "std             0.497024      0.411139       0.487460    7.591811e+06   \n",
       "min             0.000000      0.000000       0.000000    5.000000e+02   \n",
       "25%             0.000000      1.000000       0.000000    3.425000e+05   \n",
       "50%             0.000000      1.000000       1.000000    4.255000e+05   \n",
       "75%             1.000000      1.000000       1.000000    5.665000e+05   \n",
       "max             1.000000      1.000000       1.000000    1.527078e+09   \n",
       "\n",
       "       fully_taxable  fully_complete  building_count  walkout_basement  \\\n",
       "count   62603.000000    62603.000000    62603.000000      62603.000000   \n",
       "mean        0.991454        0.983355        1.070013          0.041324   \n",
       "std         0.092049        0.127937        0.776131          0.199040   \n",
       "min         0.000000        0.000000        1.000000          0.000000   \n",
       "25%         1.000000        1.000000        1.000000          0.000000   \n",
       "50%         1.000000        1.000000        1.000000          0.000000   \n",
       "75%         1.000000        1.000000        1.000000          0.000000   \n",
       "max         1.000000        1.000000       84.000000          1.000000   \n",
       "\n",
       "       air_conditioning  site_coverage  tot_gross_area_description  \\\n",
       "count      62603.000000   62603.000000                62603.000000   \n",
       "mean           0.093158       0.268380                  450.108621   \n",
       "std            0.290657       0.200333                 2266.909334   \n",
       "min            0.000000       0.000000                    1.000000   \n",
       "25%            0.000000       0.190000                  147.000000   \n",
       "50%            0.000000       0.260000                  184.000000   \n",
       "75%            0.000000       0.320000                  249.000000   \n",
       "max            1.000000       9.990000               201260.000000   \n",
       "\n",
       "                lon           lat  \n",
       "count  62603.000000  62603.000000  \n",
       "mean    -113.515785     53.516083  \n",
       "std        0.086799      0.067424  \n",
       "min     -113.712894     53.396061  \n",
       "25%     -113.581202     53.460670  \n",
       "50%     -113.517500     53.503051  \n",
       "75%     -113.439063     53.576356  \n",
       "max     -113.281236     53.715149  "
      ]
     },
     "execution_count": 35,
     "metadata": {},
     "output_type": "execute_result"
    }
   ],
   "source": [
    "HouseData = RawHouseData\n",
    "HouseData.describe()"
   ]
  },
  {
   "cell_type": "code",
   "execution_count": 36,
   "id": "32bc20c6",
   "metadata": {},
   "outputs": [
    {
     "name": "stdout",
     "output_type": "stream",
     "text": [
      "<class 'pandas.core.frame.DataFrame'>\n",
      "Int64Index: 62603 entries, 0 to 71521\n",
      "Data columns (total 17 columns):\n",
      " #   Column                      Non-Null Count  Dtype  \n",
      "---  ------                      --------------  -----  \n",
      " 0   taxroll_number              62603 non-null  int64  \n",
      " 1   property_type               62603 non-null  int32  \n",
      " 2   effective_build_year        62603 non-null  int32  \n",
      " 3   net_area                    62603 non-null  float64\n",
      " 4   basement_finished           62603 non-null  int32  \n",
      " 5   has_garage                  62603 non-null  int32  \n",
      " 6   has_fireplace               62603 non-null  int32  \n",
      " 7   assessed_value              62603 non-null  float64\n",
      " 8   fully_taxable               62603 non-null  int32  \n",
      " 9   fully_complete              62603 non-null  int32  \n",
      " 10  building_count              62603 non-null  int32  \n",
      " 11  walkout_basement            62603 non-null  int32  \n",
      " 12  air_conditioning            62603 non-null  int32  \n",
      " 13  site_coverage               62603 non-null  float64\n",
      " 14  tot_gross_area_description  62603 non-null  float64\n",
      " 15  lon                         62603 non-null  float64\n",
      " 16  lat                         62603 non-null  float64\n",
      "dtypes: float64(6), int32(10), int64(1)\n",
      "memory usage: 6.2 MB\n"
     ]
    }
   ],
   "source": [
    "HouseData.info()\n",
    "HouseData.to_csv('F:\\ECE 625\\project\\ECE_625_project\\HouseData.csv')"
   ]
  },
  {
   "cell_type": "code",
   "execution_count": 37,
   "id": "6326217e",
   "metadata": {},
   "outputs": [],
   "source": [
    "from sklearn.preprocessing import PolynomialFeatures\n",
    "from sklearn.feature_selection import f_regression\n",
    "from sklearn.feature_selection import SelectFpr"
   ]
  },
  {
   "cell_type": "code",
   "execution_count": 38,
   "id": "5f2d2d42",
   "metadata": {},
   "outputs": [],
   "source": [
    "X = HouseData.loc[:,['property_type','effective_build_year','net_area','basement_finished',\\\n",
    "                           'has_garage','has_fireplace','fully_taxable','fully_complete',\\\n",
    "                         'building_count','walkout_basement','air_conditioning','site_coverage',\\\n",
    "                         'tot_gross_area_description','lon','lat']]\n",
    "Y = HouseData['assessed_value']"
   ]
  },
  {
   "cell_type": "code",
   "execution_count": 39,
   "id": "98f2402d",
   "metadata": {
    "scrolled": false
   },
   "outputs": [
    {
     "data": {
      "text/html": [
       "<div>\n",
       "<style scoped>\n",
       "    .dataframe tbody tr th:only-of-type {\n",
       "        vertical-align: middle;\n",
       "    }\n",
       "\n",
       "    .dataframe tbody tr th {\n",
       "        vertical-align: top;\n",
       "    }\n",
       "\n",
       "    .dataframe thead th {\n",
       "        text-align: right;\n",
       "    }\n",
       "</style>\n",
       "<table border=\"1\" class=\"dataframe\">\n",
       "  <thead>\n",
       "    <tr style=\"text-align: right;\">\n",
       "      <th></th>\n",
       "      <th>F_test</th>\n",
       "      <th>p_value</th>\n",
       "    </tr>\n",
       "  </thead>\n",
       "  <tbody>\n",
       "    <tr>\n",
       "      <th>0</th>\n",
       "      <td>1007.943097</td>\n",
       "      <td>1.881679e-219</td>\n",
       "    </tr>\n",
       "    <tr>\n",
       "      <th>1</th>\n",
       "      <td>24.989307</td>\n",
       "      <td>5.780442e-07</td>\n",
       "    </tr>\n",
       "    <tr>\n",
       "      <th>2</th>\n",
       "      <td>15109.865869</td>\n",
       "      <td>0.000000e+00</td>\n",
       "    </tr>\n",
       "    <tr>\n",
       "      <th>3</th>\n",
       "      <td>128.652813</td>\n",
       "      <td>8.638257e-30</td>\n",
       "    </tr>\n",
       "    <tr>\n",
       "      <th>4</th>\n",
       "      <td>617.306149</td>\n",
       "      <td>1.313382e-135</td>\n",
       "    </tr>\n",
       "    <tr>\n",
       "      <th>5</th>\n",
       "      <td>226.653914</td>\n",
       "      <td>3.933307e-51</td>\n",
       "    </tr>\n",
       "    <tr>\n",
       "      <th>6</th>\n",
       "      <td>991.740243</td>\n",
       "      <td>5.509291e-216</td>\n",
       "    </tr>\n",
       "    <tr>\n",
       "      <th>7</th>\n",
       "      <td>22.571021</td>\n",
       "      <td>2.029647e-06</td>\n",
       "    </tr>\n",
       "    <tr>\n",
       "      <th>8</th>\n",
       "      <td>2250.803137</td>\n",
       "      <td>0.000000e+00</td>\n",
       "    </tr>\n",
       "    <tr>\n",
       "      <th>9</th>\n",
       "      <td>0.035067</td>\n",
       "      <td>8.514569e-01</td>\n",
       "    </tr>\n",
       "    <tr>\n",
       "      <th>10</th>\n",
       "      <td>826.904316</td>\n",
       "      <td>1.151118e-180</td>\n",
       "    </tr>\n",
       "    <tr>\n",
       "      <th>11</th>\n",
       "      <td>14.420983</td>\n",
       "      <td>1.463025e-04</td>\n",
       "    </tr>\n",
       "    <tr>\n",
       "      <th>12</th>\n",
       "      <td>24838.101270</td>\n",
       "      <td>0.000000e+00</td>\n",
       "    </tr>\n",
       "    <tr>\n",
       "      <th>13</th>\n",
       "      <td>1.955213</td>\n",
       "      <td>1.620312e-01</td>\n",
       "    </tr>\n",
       "    <tr>\n",
       "      <th>14</th>\n",
       "      <td>0.044847</td>\n",
       "      <td>8.322868e-01</td>\n",
       "    </tr>\n",
       "  </tbody>\n",
       "</table>\n",
       "</div>"
      ],
      "text/plain": [
       "          F_test        p_value\n",
       "0    1007.943097  1.881679e-219\n",
       "1      24.989307   5.780442e-07\n",
       "2   15109.865869   0.000000e+00\n",
       "3     128.652813   8.638257e-30\n",
       "4     617.306149  1.313382e-135\n",
       "5     226.653914   3.933307e-51\n",
       "6     991.740243  5.509291e-216\n",
       "7      22.571021   2.029647e-06\n",
       "8    2250.803137   0.000000e+00\n",
       "9       0.035067   8.514569e-01\n",
       "10    826.904316  1.151118e-180\n",
       "11     14.420983   1.463025e-04\n",
       "12  24838.101270   0.000000e+00\n",
       "13      1.955213   1.620312e-01\n",
       "14      0.044847   8.322868e-01"
      ]
     },
     "execution_count": 39,
     "metadata": {},
     "output_type": "execute_result"
    }
   ],
   "source": [
    "F_test,p_value=f_regression(X,Y)\n",
    "pd.DataFrame({\n",
    "              'F_test':F_test,'p_value':p_value})"
   ]
  },
  {
   "cell_type": "code",
   "execution_count": 74,
   "id": "e6bbcaf5",
   "metadata": {},
   "outputs": [],
   "source": [
    "result = pd.DataFrame(columns=('Linear Regression','Ridge Regression','LASSO','RFR','SVR'), \\\n",
    "                      index = ['RSEM', 'r2 score'])"
   ]
  },
  {
   "cell_type": "markdown",
   "id": "4f8408e7",
   "metadata": {},
   "source": [
    "### Linear Regression"
   ]
  },
  {
   "cell_type": "code",
   "execution_count": 75,
   "id": "f72d6f09",
   "metadata": {},
   "outputs": [],
   "source": [
    "from sklearn.linear_model import LinearRegression,SGDRegressor\n",
    "from sklearn.preprocessing import StandardScaler\n",
    "from sklearn.metrics import mean_squared_error\n",
    "pd.set_option('display.float_format', lambda x: '%.2f' % x)"
   ]
  },
  {
   "cell_type": "code",
   "execution_count": 76,
   "id": "8da1a07b",
   "metadata": {},
   "outputs": [],
   "source": [
    "X = HouseData.loc[:,['property_type','effective_build_year','net_area','basement_finished',\\\n",
    "'has_garage','has_fireplace','fully_taxable','fully_complete','building_count','walkout_basement'\\\n",
    "    ,'air_conditioning','site_coverage','tot_gross_area_description','lon','lat']]\n",
    "Y = HouseData['assessed_value']\n",
    "X_train, X_test, Y_train, Y_test = train_test_split( X , Y , test_size = 0.1, random_state = 5)"
   ]
  },
  {
   "cell_type": "code",
   "execution_count": 77,
   "id": "e767433b",
   "metadata": {},
   "outputs": [
    {
     "name": "stdout",
     "output_type": "stream",
     "text": [
      "(56342, 15) (56342,) (6261, 15) (6261,)\n"
     ]
    }
   ],
   "source": [
    "print(X_train.shape,Y_train.shape,X_test.shape,Y_test.shape)"
   ]
  },
  {
   "cell_type": "code",
   "execution_count": 78,
   "id": "5419879a",
   "metadata": {},
   "outputs": [
    {
     "name": "stdout",
     "output_type": "stream",
     "text": [
      "[  -28886.60362972     5089.79455503     -590.39347187    74029.50566588\n",
      "  -164103.39076462   -12685.77613031 -3159521.36322162   200761.7758615\n",
      "  -273565.89107402   159067.34005794   107303.44292595  -918360.64602039\n",
      "     2172.7965914   -326137.99533506  -499042.14911746]\n",
      "RSME for Linear regression is:  2118640.1133174067\n",
      "r2 score for Linear regression is:  0.9182719581183119\n"
     ]
    }
   ],
   "source": [
    "LinearReg = LinearRegression()\n",
    "LinearReg.fit(X_train,Y_train)\n",
    "\n",
    "print(LinearReg.coef_)\n",
    "\n",
    "Linear_predict = LinearReg.predict(X_test)\n",
    "Linear_error = mean_squared_error(Y_test,Linear_predict)\n",
    "Linear_r2 = r2_score(Y_test,Linear_predict)\n",
    "print('RSME for Linear regression is: ', sqrt(Linear_error))\n",
    "print('r2 score for Linear regression is: ', Linear_r2)\n",
    "\n",
    "result['Linear Regression'] = [sqrt(Linear_error),Linear_r2]"
   ]
  },
  {
   "cell_type": "markdown",
   "id": "e3a61d86",
   "metadata": {},
   "source": [
    "## Ridge Regression"
   ]
  },
  {
   "cell_type": "code",
   "execution_count": 79,
   "id": "eb7412a2",
   "metadata": {},
   "outputs": [],
   "source": [
    "from sklearn import linear_model"
   ]
  },
  {
   "cell_type": "code",
   "execution_count": 80,
   "id": "2da44ad9",
   "metadata": {},
   "outputs": [
    {
     "name": "stdout",
     "output_type": "stream",
     "text": [
      "RSME for Ridge regression is:  2118458.5911631007\n",
      "r2 score for Ridge regression is:  0.9182859622095172\n"
     ]
    }
   ],
   "source": [
    "RidgeReg = linear_model.Ridge(alpha = 1.0)\n",
    "RidgeReg.fit(X_train,Y_train)\n",
    "Ridge_predict = RidgeReg.predict(X_test)\n",
    "Ridge_error = mean_squared_error(Y_test,Ridge_predict)\n",
    "Ridge_r2 = r2_score(Y_test,Ridge_predict)\n",
    "print('RSME for Ridge regression is: ', sqrt(Ridge_error))\n",
    "print('r2 score for Ridge regression is: ', Ridge_r2)"
   ]
  },
  {
   "cell_type": "code",
   "execution_count": 81,
   "id": "1e3738d5",
   "metadata": {},
   "outputs": [],
   "source": [
    "result['Ridge Regression'] = [sqrt(Ridge_error),Ridge_r2]"
   ]
  },
  {
   "cell_type": "markdown",
   "id": "314b4e85",
   "metadata": {},
   "source": [
    "## LASSO"
   ]
  },
  {
   "cell_type": "code",
   "execution_count": 82,
   "id": "4d8278f2",
   "metadata": {},
   "outputs": [
    {
     "name": "stdout",
     "output_type": "stream",
     "text": [
      "RSME for Lasso is:  2118639.9023448373\n",
      "r2 score for Lasso is:  0.9182719743951433\n"
     ]
    }
   ],
   "source": [
    "Lasso = linear_model.Lasso(alpha = 0.1)\n",
    "Lasso.fit(X_train,Y_train)\n",
    "\n",
    "Lasso_predict = Lasso.predict(X_test)\n",
    "Lasso_error = mean_squared_error(Y_test,Lasso_predict)\n",
    "Lasso_r2 = r2_score(Y_test,Lasso_predict)\n",
    "print('RSME for Lasso is: ', sqrt(Lasso_error))\n",
    "print('r2 score for Lasso is: ', Lasso_r2)"
   ]
  },
  {
   "cell_type": "code",
   "execution_count": 83,
   "id": "4f443a70",
   "metadata": {},
   "outputs": [],
   "source": [
    "result['LASSO'] = [sqrt(Lasso_error),Lasso_r2]"
   ]
  },
  {
   "cell_type": "markdown",
   "id": "c4ae8920",
   "metadata": {},
   "source": [
    "## RandomForestRegression "
   ]
  },
  {
   "cell_type": "code",
   "execution_count": 70,
   "id": "2fd68931",
   "metadata": {},
   "outputs": [
    {
     "name": "stdout",
     "output_type": "stream",
     "text": [
      "RSME for Random forest regression is:  3480136.5132616777\n",
      "r2 score for Random forest regression is:  0.7794793456476571\n"
     ]
    }
   ],
   "source": [
    "RFR = RandomForestRegressor(n_estimators=150)\n",
    "RFR.fit(X_train,Y_train)\n",
    "\n",
    "RFR_predict = RFR.predict(X_test)\n",
    "RFR_error = mean_squared_error(Y_test,RFR_predict)\n",
    "RFR_r2 = r2_score(Y_test,RFR_predict)\n",
    "print('RSME for Random forest regression is: ', sqrt(RFR_error))\n",
    "print('r2 score for Random forest regression is: ', RFR_r2)"
   ]
  },
  {
   "cell_type": "code",
   "execution_count": 84,
   "id": "70d74444",
   "metadata": {},
   "outputs": [],
   "source": [
    "result['RFR'] = [sqrt(RFR_error),RFR_r2]"
   ]
  },
  {
   "cell_type": "markdown",
   "id": "c41de65c",
   "metadata": {},
   "source": [
    "## SVR "
   ]
  },
  {
   "cell_type": "code",
   "execution_count": 49,
   "id": "cd02d77d",
   "metadata": {},
   "outputs": [
    {
     "data": {
      "text/plain": [
       "array([339130.84256631, 360321.63719386, 284607.79840005, ...,\n",
       "       494699.00249808, 291466.06790967, 270952.12601439])"
      ]
     },
     "execution_count": 49,
     "metadata": {},
     "output_type": "execute_result"
    }
   ],
   "source": [
    "SVR_linear = SVR(kernel='linear')\n",
    "SVR_linear.fit(X_train,Y_train)\n",
    "\n",
    "SVR_predict = SVR_linear.predict(X_test)\n",
    "\n",
    "SVR_predict"
   ]
  },
  {
   "cell_type": "code",
   "execution_count": 50,
   "id": "a6ea17df",
   "metadata": {},
   "outputs": [
    {
     "name": "stdout",
     "output_type": "stream",
     "text": [
      "RSME for SVR is:  2711562.0371064646\n",
      "r2 score for SVR is:  0.8661261348639834\n"
     ]
    }
   ],
   "source": [
    "SVR_error = mean_squared_error(Y_test,SVR_predict)\n",
    "SVR_r2 = r2_score(Y_test,SVR_predict)\n",
    "print('RSME for SVR is: ', sqrt(SVR_error))\n",
    "print('r2 score for SVR is: ', SVR_r2)"
   ]
  },
  {
   "cell_type": "code",
   "execution_count": 85,
   "id": "fd94236c",
   "metadata": {},
   "outputs": [],
   "source": [
    "result['SVR'] = [sqrt(SVR_error),SVR_r2]"
   ]
  },
  {
   "cell_type": "markdown",
   "id": "1308eebf",
   "metadata": {},
   "source": [
    "## Result "
   ]
  },
  {
   "cell_type": "code",
   "execution_count": 86,
   "id": "4f9f0b0b",
   "metadata": {},
   "outputs": [
    {
     "data": {
      "text/html": [
       "<div>\n",
       "<style scoped>\n",
       "    .dataframe tbody tr th:only-of-type {\n",
       "        vertical-align: middle;\n",
       "    }\n",
       "\n",
       "    .dataframe tbody tr th {\n",
       "        vertical-align: top;\n",
       "    }\n",
       "\n",
       "    .dataframe thead th {\n",
       "        text-align: right;\n",
       "    }\n",
       "</style>\n",
       "<table border=\"1\" class=\"dataframe\">\n",
       "  <thead>\n",
       "    <tr style=\"text-align: right;\">\n",
       "      <th></th>\n",
       "      <th>Linear Regression</th>\n",
       "      <th>Ridge Regression</th>\n",
       "      <th>LASSO</th>\n",
       "      <th>RFR</th>\n",
       "      <th>SVR</th>\n",
       "    </tr>\n",
       "  </thead>\n",
       "  <tbody>\n",
       "    <tr>\n",
       "      <th>RSEM</th>\n",
       "      <td>2118640.11</td>\n",
       "      <td>2118458.59</td>\n",
       "      <td>2118639.90</td>\n",
       "      <td>3480136.51</td>\n",
       "      <td>2711562.04</td>\n",
       "    </tr>\n",
       "    <tr>\n",
       "      <th>r2 score</th>\n",
       "      <td>0.92</td>\n",
       "      <td>0.92</td>\n",
       "      <td>0.92</td>\n",
       "      <td>0.78</td>\n",
       "      <td>0.87</td>\n",
       "    </tr>\n",
       "  </tbody>\n",
       "</table>\n",
       "</div>"
      ],
      "text/plain": [
       "          Linear Regression  Ridge Regression      LASSO        RFR        SVR\n",
       "RSEM             2118640.11        2118458.59 2118639.90 3480136.51 2711562.04\n",
       "r2 score               0.92              0.92       0.92       0.78       0.87"
      ]
     },
     "execution_count": 86,
     "metadata": {},
     "output_type": "execute_result"
    }
   ],
   "source": [
    "result"
   ]
  },
  {
   "cell_type": "code",
   "execution_count": null,
   "id": "88cfa6d4",
   "metadata": {},
   "outputs": [],
   "source": []
  },
  {
   "cell_type": "code",
   "execution_count": null,
   "id": "10f32b2d",
   "metadata": {},
   "outputs": [],
   "source": []
  },
  {
   "cell_type": "code",
   "execution_count": null,
   "id": "2b26bf39",
   "metadata": {},
   "outputs": [],
   "source": []
  },
  {
   "cell_type": "code",
   "execution_count": null,
   "id": "2f70a164",
   "metadata": {},
   "outputs": [],
   "source": []
  },
  {
   "cell_type": "code",
   "execution_count": null,
   "id": "e9347dab",
   "metadata": {},
   "outputs": [],
   "source": []
  },
  {
   "cell_type": "code",
   "execution_count": null,
   "id": "4d0f845f",
   "metadata": {},
   "outputs": [],
   "source": []
  },
  {
   "cell_type": "code",
   "execution_count": null,
   "id": "8a5ec5ec",
   "metadata": {},
   "outputs": [],
   "source": []
  },
  {
   "cell_type": "code",
   "execution_count": null,
   "id": "ae52eb5d",
   "metadata": {},
   "outputs": [],
   "source": []
  }
 ],
 "metadata": {
  "kernelspec": {
   "display_name": "Python 3",
   "language": "python",
   "name": "python3"
  },
  "language_info": {
   "codemirror_mode": {
    "name": "ipython",
    "version": 3
   },
   "file_extension": ".py",
   "mimetype": "text/x-python",
   "name": "python",
   "nbconvert_exporter": "python",
   "pygments_lexer": "ipython3",
   "version": "3.7.10"
  }
 },
 "nbformat": 4,
 "nbformat_minor": 5
}
