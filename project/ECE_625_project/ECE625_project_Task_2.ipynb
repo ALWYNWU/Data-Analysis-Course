{
 "cells": [
  {
   "cell_type": "code",
   "execution_count": 211,
   "id": "a4d0cae9",
   "metadata": {},
   "outputs": [],
   "source": [
    "import numpy as np\n",
    "import pandas as pd\n",
    "import matplotlib.pyplot as plt\n",
    "import seaborn as sns\n",
    "import xgboost as xgb\n",
    "from sklearn.model_selection import GridSearchCV, cross_val_score\n",
    "from sklearn.preprocessing import StandardScaler\n",
    "from sklearn.linear_model import Ridge\n",
    "from sklearn.svm import SVR\n",
    "from sklearn.ensemble import RandomForestRegressor\n",
    "from sklearn.model_selection import train_test_split\n",
    "from math import sqrt\n",
    "from sklearn.metrics import mean_squared_error,r2_score\n",
    "\n",
    "from sklearn.preprocessing import PolynomialFeatures\n",
    "from sklearn.feature_selection import f_regression\n",
    "from sklearn.feature_selection import SelectFpr\n",
    "\n",
    "from sklearn.linear_model import LinearRegression,SGDRegressor\n",
    "from sklearn.preprocessing import StandardScaler\n",
    "from sklearn.metrics import mean_squared_error\n",
    "from sklearn import linear_model\n",
    "from sklearn.metrics import confusion_matrix\n",
    "from sklearn.metrics import accuracy_score\n",
    "from sklearn.metrics import f1_score\n",
    "\n",
    "from sklearn.metrics import precision_score, recall_score\n",
    "from sklearn.metrics import f1_score\n",
    "from sklearn.model_selection import cross_val_predict"
   ]
  },
  {
   "cell_type": "markdown",
   "id": "a8d8073b",
   "metadata": {},
   "source": [
    "# Data processing"
   ]
  },
  {
   "cell_type": "code",
   "execution_count": 2,
   "id": "99bf3d90",
   "metadata": {},
   "outputs": [
    {
     "name": "stderr",
     "output_type": "stream",
     "text": [
      "E:\\Anaconda3\\envs\\py37\\lib\\site-packages\\IPython\\core\\interactiveshell.py:3166: DtypeWarning: Columns (2,17,19) have mixed types.Specify dtype option on import or set low_memory=False.\n",
      "  interactivity=interactivity, compiler=compiler, result=result)\n"
     ]
    }
   ],
   "source": [
    "HouseData = pd.read_csv('./HouseData.csv',encoding = \"ISO-8859-1\")\n",
    "FullData = pd.read_csv('./Property_Assessment_Data__2012_-_2019_.csv',encoding = \"ISO-8859-1\")"
   ]
  },
  {
   "cell_type": "code",
   "execution_count": 3,
   "id": "0d389f86",
   "metadata": {},
   "outputs": [
    {
     "data": {
      "text/plain": [
       "(2975436, 21)"
      ]
     },
     "execution_count": 3,
     "metadata": {},
     "output_type": "execute_result"
    }
   ],
   "source": [
    "FullData.shape"
   ]
  },
  {
   "cell_type": "code",
   "execution_count": 4,
   "id": "1e84d0e1",
   "metadata": {},
   "outputs": [],
   "source": [
    "FullData = FullData.loc[FullData.loc[:,'Assessment Year'] == 2016,:]"
   ]
  },
  {
   "cell_type": "code",
   "execution_count": 5,
   "id": "a5ee5d7a",
   "metadata": {},
   "outputs": [
    {
     "name": "stdout",
     "output_type": "stream",
     "text": [
      "<class 'pandas.core.frame.DataFrame'>\n",
      "RangeIndex: 62603 entries, 0 to 62602\n",
      "Data columns (total 18 columns):\n",
      " #   Column                      Non-Null Count  Dtype  \n",
      "---  ------                      --------------  -----  \n",
      " 0   Unnamed: 0                  62603 non-null  int64  \n",
      " 1   taxroll_number              62603 non-null  int64  \n",
      " 2   property_type               62603 non-null  int64  \n",
      " 3   effective_build_year        62603 non-null  int64  \n",
      " 4   net_area                    62603 non-null  float64\n",
      " 5   basement_finished           62603 non-null  int64  \n",
      " 6   has_garage                  62603 non-null  int64  \n",
      " 7   has_fireplace               62603 non-null  int64  \n",
      " 8   assessed_value              62603 non-null  float64\n",
      " 9   fully_taxable               62603 non-null  int64  \n",
      " 10  fully_complete              62603 non-null  int64  \n",
      " 11  building_count              62603 non-null  int64  \n",
      " 12  walkout_basement            62603 non-null  int64  \n",
      " 13  air_conditioning            62603 non-null  int64  \n",
      " 14  site_coverage               62603 non-null  float64\n",
      " 15  tot_gross_area_description  62603 non-null  float64\n",
      " 16  lon                         62603 non-null  float64\n",
      " 17  lat                         62603 non-null  float64\n",
      "dtypes: float64(6), int64(12)\n",
      "memory usage: 8.6 MB\n"
     ]
    }
   ],
   "source": [
    "HouseData.info()"
   ]
  },
  {
   "cell_type": "code",
   "execution_count": 6,
   "id": "21ebeaeb",
   "metadata": {},
   "outputs": [
    {
     "name": "stdout",
     "output_type": "stream",
     "text": [
      "<class 'pandas.core.frame.DataFrame'>\n",
      "Int64Index: 381025 entries, 20 to 2951154\n",
      "Data columns (total 21 columns):\n",
      " #   Column                Non-Null Count   Dtype  \n",
      "---  ------                --------------   -----  \n",
      " 0   Account Number        381025 non-null  int64  \n",
      " 1   Assessment Year       381025 non-null  int64  \n",
      " 2   Suite                 76645 non-null   object \n",
      " 3   House Number          342629 non-null  float64\n",
      " 4   Street Name           342629 non-null  object \n",
      " 5   Legal Description     376205 non-null  object \n",
      " 6   Latitude              379807 non-null  float64\n",
      " 7   Longitude             379807 non-null  float64\n",
      " 8   Point Location        379807 non-null  object \n",
      " 9   Neighbourhood         381025 non-null  object \n",
      " 10  Actual Year Built     358087 non-null  float64\n",
      " 11  Garage                381025 non-null  object \n",
      " 12  Zoning                381002 non-null  object \n",
      " 13  Lot Size              378133 non-null  float64\n",
      " 14  Assessed Value        381025 non-null  float64\n",
      " 15  Assessment Class 1    381025 non-null  object \n",
      " 16  Assessment Class % 1  381025 non-null  float64\n",
      " 17  Assessment Class 2    879 non-null     object \n",
      " 18  Assessment Class % 2  879 non-null     float64\n",
      " 19  Assessment Class 3    111 non-null     object \n",
      " 20  Assessment Class % 3  111 non-null     float64\n",
      "dtypes: float64(9), int64(2), object(10)\n",
      "memory usage: 64.0+ MB\n"
     ]
    }
   ],
   "source": [
    "FullData.info()"
   ]
  },
  {
   "cell_type": "code",
   "execution_count": 7,
   "id": "f821ec52",
   "metadata": {},
   "outputs": [],
   "source": [
    "FullData.rename(columns={'Account Number':'taxroll_number', 'Assessed Value':'Assessed Value 2016'}, \\\n",
    "                inplace = True)"
   ]
  },
  {
   "cell_type": "code",
   "execution_count": 8,
   "id": "6502a62e",
   "metadata": {},
   "outputs": [
    {
     "name": "stdout",
     "output_type": "stream",
     "text": [
      "<class 'pandas.core.frame.DataFrame'>\n",
      "Int64Index: 381025 entries, 20 to 2951154\n",
      "Data columns (total 21 columns):\n",
      " #   Column                Non-Null Count   Dtype  \n",
      "---  ------                --------------   -----  \n",
      " 0   taxroll_number        381025 non-null  int64  \n",
      " 1   Assessment Year       381025 non-null  int64  \n",
      " 2   Suite                 76645 non-null   object \n",
      " 3   House Number          342629 non-null  float64\n",
      " 4   Street Name           342629 non-null  object \n",
      " 5   Legal Description     376205 non-null  object \n",
      " 6   Latitude              379807 non-null  float64\n",
      " 7   Longitude             379807 non-null  float64\n",
      " 8   Point Location        379807 non-null  object \n",
      " 9   Neighbourhood         381025 non-null  object \n",
      " 10  Actual Year Built     358087 non-null  float64\n",
      " 11  Garage                381025 non-null  object \n",
      " 12  Zoning                381002 non-null  object \n",
      " 13  Lot Size              378133 non-null  float64\n",
      " 14  Assessed Value 2016   381025 non-null  float64\n",
      " 15  Assessment Class 1    381025 non-null  object \n",
      " 16  Assessment Class % 1  381025 non-null  float64\n",
      " 17  Assessment Class 2    879 non-null     object \n",
      " 18  Assessment Class % 2  879 non-null     float64\n",
      " 19  Assessment Class 3    111 non-null     object \n",
      " 20  Assessment Class % 3  111 non-null     float64\n",
      "dtypes: float64(9), int64(2), object(10)\n",
      "memory usage: 64.0+ MB\n"
     ]
    }
   ],
   "source": [
    "FullData.info()"
   ]
  },
  {
   "cell_type": "code",
   "execution_count": 9,
   "id": "899a0917",
   "metadata": {},
   "outputs": [],
   "source": [
    "AssessedValue_2016 = FullData.loc[:,['taxroll_number','Assessed Value 2016']]"
   ]
  },
  {
   "cell_type": "code",
   "execution_count": 10,
   "id": "f97820ea",
   "metadata": {},
   "outputs": [
    {
     "name": "stdout",
     "output_type": "stream",
     "text": [
      "<class 'pandas.core.frame.DataFrame'>\n",
      "Int64Index: 381025 entries, 20 to 2951154\n",
      "Data columns (total 2 columns):\n",
      " #   Column               Non-Null Count   Dtype  \n",
      "---  ------               --------------   -----  \n",
      " 0   taxroll_number       381025 non-null  int64  \n",
      " 1   Assessed Value 2016  381025 non-null  float64\n",
      "dtypes: float64(1), int64(1)\n",
      "memory usage: 8.7 MB\n"
     ]
    }
   ],
   "source": [
    "AssessedValue_2016.info()"
   ]
  },
  {
   "cell_type": "code",
   "execution_count": 11,
   "id": "f41c7fc9",
   "metadata": {},
   "outputs": [],
   "source": [
    "AssessedValue_2016.to_csv('F:\\ECE 625\\project\\ECE_625_project\\AssessedValue_2016.csv')"
   ]
  },
  {
   "cell_type": "code",
   "execution_count": 12,
   "id": "9ee91fb9",
   "metadata": {},
   "outputs": [
    {
     "data": {
      "text/plain": [
       "(62603, 18)"
      ]
     },
     "execution_count": 12,
     "metadata": {},
     "output_type": "execute_result"
    }
   ],
   "source": [
    "HouseData.shape"
   ]
  },
  {
   "cell_type": "code",
   "execution_count": 13,
   "id": "4836e1f4",
   "metadata": {},
   "outputs": [],
   "source": [
    "NewHouseData = pd.merge(HouseData,AssessedValue_2016,how='left', on = 'taxroll_number',\\\n",
    "                        sort = False, copy = False)"
   ]
  },
  {
   "cell_type": "code",
   "execution_count": 14,
   "id": "69f6f17b",
   "metadata": {},
   "outputs": [
    {
     "name": "stdout",
     "output_type": "stream",
     "text": [
      "<class 'pandas.core.frame.DataFrame'>\n",
      "Int64Index: 62603 entries, 0 to 62602\n",
      "Data columns (total 19 columns):\n",
      " #   Column                      Non-Null Count  Dtype  \n",
      "---  ------                      --------------  -----  \n",
      " 0   Unnamed: 0                  62603 non-null  int64  \n",
      " 1   taxroll_number              62603 non-null  int64  \n",
      " 2   property_type               62603 non-null  int64  \n",
      " 3   effective_build_year        62603 non-null  int64  \n",
      " 4   net_area                    62603 non-null  float64\n",
      " 5   basement_finished           62603 non-null  int64  \n",
      " 6   has_garage                  62603 non-null  int64  \n",
      " 7   has_fireplace               62603 non-null  int64  \n",
      " 8   assessed_value              62603 non-null  float64\n",
      " 9   fully_taxable               62603 non-null  int64  \n",
      " 10  fully_complete              62603 non-null  int64  \n",
      " 11  building_count              62603 non-null  int64  \n",
      " 12  walkout_basement            62603 non-null  int64  \n",
      " 13  air_conditioning            62603 non-null  int64  \n",
      " 14  site_coverage               62603 non-null  float64\n",
      " 15  tot_gross_area_description  62603 non-null  float64\n",
      " 16  lon                         62603 non-null  float64\n",
      " 17  lat                         62603 non-null  float64\n",
      " 18  Assessed Value 2016         62579 non-null  float64\n",
      "dtypes: float64(7), int64(12)\n",
      "memory usage: 9.6 MB\n"
     ]
    }
   ],
   "source": [
    "NewHouseData.info()\n",
    "\n"
   ]
  },
  {
   "cell_type": "code",
   "execution_count": 15,
   "id": "03fcab99",
   "metadata": {},
   "outputs": [
    {
     "data": {
      "text/plain": [
       "Assessed Value 2016           24\n",
       "fully_complete                 0\n",
       "lat                            0\n",
       "lon                            0\n",
       "tot_gross_area_description     0\n",
       "site_coverage                  0\n",
       "air_conditioning               0\n",
       "walkout_basement               0\n",
       "building_count                 0\n",
       "Unnamed: 0                     0\n",
       "taxroll_number                 0\n",
       "assessed_value                 0\n",
       "has_fireplace                  0\n",
       "has_garage                     0\n",
       "basement_finished              0\n",
       "net_area                       0\n",
       "effective_build_year           0\n",
       "property_type                  0\n",
       "fully_taxable                  0\n",
       "dtype: int64"
      ]
     },
     "execution_count": 15,
     "metadata": {},
     "output_type": "execute_result"
    }
   ],
   "source": [
    "NewHouseData.isnull().sum().sort_values(ascending=False)"
   ]
  },
  {
   "cell_type": "code",
   "execution_count": 16,
   "id": "b7d69805",
   "metadata": {},
   "outputs": [
    {
     "data": {
      "text/plain": [
       "Unnamed: 0                    0\n",
       "fully_complete                0\n",
       "lat                           0\n",
       "lon                           0\n",
       "tot_gross_area_description    0\n",
       "site_coverage                 0\n",
       "air_conditioning              0\n",
       "walkout_basement              0\n",
       "building_count                0\n",
       "fully_taxable                 0\n",
       "taxroll_number                0\n",
       "assessed_value                0\n",
       "has_fireplace                 0\n",
       "has_garage                    0\n",
       "basement_finished             0\n",
       "net_area                      0\n",
       "effective_build_year          0\n",
       "property_type                 0\n",
       "Assessed Value 2016           0\n",
       "dtype: int64"
      ]
     },
     "execution_count": 16,
     "metadata": {},
     "output_type": "execute_result"
    }
   ],
   "source": [
    "NewHouseData = NewHouseData.dropna()\n",
    "NewHouseData.isnull().sum().sort_values(ascending=False)"
   ]
  },
  {
   "cell_type": "code",
   "execution_count": 17,
   "id": "7a7ada54",
   "metadata": {},
   "outputs": [
    {
     "data": {
      "text/plain": [
       "(62579, 19)"
      ]
     },
     "execution_count": 17,
     "metadata": {},
     "output_type": "execute_result"
    }
   ],
   "source": [
    "NewHouseData.shape"
   ]
  },
  {
   "cell_type": "code",
   "execution_count": 18,
   "id": "2e58e91d",
   "metadata": {},
   "outputs": [],
   "source": [
    "NewHouseData['prediction'] = ''"
   ]
  },
  {
   "cell_type": "code",
   "execution_count": 19,
   "id": "92030f27",
   "metadata": {},
   "outputs": [],
   "source": [
    "NewHouseData['Value change'] = ''"
   ]
  },
  {
   "cell_type": "code",
   "execution_count": 20,
   "id": "00e8d7eb",
   "metadata": {},
   "outputs": [],
   "source": [
    "NewHouseData['Value change'] = NewHouseData.apply(\\\n",
    "                        lambda x: x['Assessed Value 2016'] - x['assessed_value'], axis=1)"
   ]
  },
  {
   "cell_type": "code",
   "execution_count": 21,
   "id": "c1e44459",
   "metadata": {},
   "outputs": [],
   "source": [
    "NewHouseData.loc[NewHouseData['Value change'] > 0,'prediction']=1\n",
    "NewHouseData.loc[NewHouseData['Value change'] < 0,'prediction']=-1\n",
    "NewHouseData.loc[NewHouseData['Value change'] == 0,'prediction']=0\n",
    "NewHouseData['prediction']=NewHouseData['prediction'].astype('int')"
   ]
  },
  {
   "cell_type": "code",
   "execution_count": 284,
   "id": "360e2950",
   "metadata": {},
   "outputs": [
    {
     "name": "stdout",
     "output_type": "stream",
     "text": [
      "<class 'pandas.core.frame.DataFrame'>\n",
      "Int64Index: 61281 entries, 0 to 62602\n",
      "Data columns (total 21 columns):\n",
      " #   Column                      Non-Null Count  Dtype  \n",
      "---  ------                      --------------  -----  \n",
      " 0   Unnamed: 0                  61281 non-null  int64  \n",
      " 1   taxroll_number              61281 non-null  int64  \n",
      " 2   property_type               61281 non-null  int64  \n",
      " 3   effective_build_year        61281 non-null  int64  \n",
      " 4   net_area                    61281 non-null  float64\n",
      " 5   basement_finished           61281 non-null  int64  \n",
      " 6   has_garage                  61281 non-null  int64  \n",
      " 7   has_fireplace               61281 non-null  int64  \n",
      " 8   assessed_value              61281 non-null  float64\n",
      " 9   fully_taxable               61281 non-null  int64  \n",
      " 10  fully_complete              61281 non-null  int64  \n",
      " 11  building_count              61281 non-null  int64  \n",
      " 12  walkout_basement            61281 non-null  int64  \n",
      " 13  air_conditioning            61281 non-null  int64  \n",
      " 14  site_coverage               61281 non-null  float64\n",
      " 15  tot_gross_area_description  61281 non-null  float64\n",
      " 16  lon                         61281 non-null  float64\n",
      " 17  lat                         61281 non-null  float64\n",
      " 18  Assessed Value 2016         61281 non-null  float64\n",
      " 19  prediction                  61281 non-null  int32  \n",
      " 20  Value change                61281 non-null  float64\n",
      "dtypes: float64(8), int32(1), int64(12)\n",
      "memory usage: 10.1 MB\n"
     ]
    }
   ],
   "source": [
    "NewHouseData.info()"
   ]
  },
  {
   "cell_type": "code",
   "execution_count": 23,
   "id": "79c19642",
   "metadata": {},
   "outputs": [
    {
     "data": {
      "text/plain": [
       "(62579, 21)"
      ]
     },
     "execution_count": 23,
     "metadata": {},
     "output_type": "execute_result"
    }
   ],
   "source": [
    "NewHouseData.shape"
   ]
  },
  {
   "cell_type": "code",
   "execution_count": 24,
   "id": "adaa4cca",
   "metadata": {},
   "outputs": [],
   "source": [
    "NewHouseData = NewHouseData.loc[NewHouseData.loc[:,'Value change'] != 0,:]"
   ]
  },
  {
   "cell_type": "code",
   "execution_count": 25,
   "id": "c0f5ad59",
   "metadata": {},
   "outputs": [
    {
     "data": {
      "text/html": [
       "<div>\n",
       "<style scoped>\n",
       "    .dataframe tbody tr th:only-of-type {\n",
       "        vertical-align: middle;\n",
       "    }\n",
       "\n",
       "    .dataframe tbody tr th {\n",
       "        vertical-align: top;\n",
       "    }\n",
       "\n",
       "    .dataframe thead th {\n",
       "        text-align: right;\n",
       "    }\n",
       "</style>\n",
       "<table border=\"1\" class=\"dataframe\">\n",
       "  <thead>\n",
       "    <tr style=\"text-align: right;\">\n",
       "      <th></th>\n",
       "      <th>Unnamed: 0</th>\n",
       "      <th>taxroll_number</th>\n",
       "      <th>property_type</th>\n",
       "      <th>effective_build_year</th>\n",
       "      <th>net_area</th>\n",
       "      <th>basement_finished</th>\n",
       "      <th>has_garage</th>\n",
       "      <th>has_fireplace</th>\n",
       "      <th>assessed_value</th>\n",
       "      <th>fully_taxable</th>\n",
       "      <th>...</th>\n",
       "      <th>building_count</th>\n",
       "      <th>walkout_basement</th>\n",
       "      <th>air_conditioning</th>\n",
       "      <th>site_coverage</th>\n",
       "      <th>tot_gross_area_description</th>\n",
       "      <th>lon</th>\n",
       "      <th>lat</th>\n",
       "      <th>Assessed Value 2016</th>\n",
       "      <th>prediction</th>\n",
       "      <th>Value change</th>\n",
       "    </tr>\n",
       "  </thead>\n",
       "  <tbody>\n",
       "    <tr>\n",
       "      <th>count</th>\n",
       "      <td>61281.000000</td>\n",
       "      <td>6.128100e+04</td>\n",
       "      <td>61281.000000</td>\n",
       "      <td>61281.000000</td>\n",
       "      <td>61281.000000</td>\n",
       "      <td>61281.000000</td>\n",
       "      <td>61281.000000</td>\n",
       "      <td>61281.000000</td>\n",
       "      <td>6.128100e+04</td>\n",
       "      <td>61281.000000</td>\n",
       "      <td>...</td>\n",
       "      <td>61281.000000</td>\n",
       "      <td>61281.000000</td>\n",
       "      <td>61281.000000</td>\n",
       "      <td>61281.000000</td>\n",
       "      <td>61281.000000</td>\n",
       "      <td>61281.000000</td>\n",
       "      <td>61281.000000</td>\n",
       "      <td>6.128100e+04</td>\n",
       "      <td>61281.000000</td>\n",
       "      <td>6.128100e+04</td>\n",
       "    </tr>\n",
       "    <tr>\n",
       "      <th>mean</th>\n",
       "      <td>35257.473654</td>\n",
       "      <td>7.020721e+06</td>\n",
       "      <td>2.341231</td>\n",
       "      <td>1986.849056</td>\n",
       "      <td>381.030083</td>\n",
       "      <td>0.448296</td>\n",
       "      <td>0.787650</td>\n",
       "      <td>0.613126</td>\n",
       "      <td>9.001669e+05</td>\n",
       "      <td>0.991482</td>\n",
       "      <td>...</td>\n",
       "      <td>1.070577</td>\n",
       "      <td>0.041971</td>\n",
       "      <td>0.093634</td>\n",
       "      <td>0.267357</td>\n",
       "      <td>450.919714</td>\n",
       "      <td>-113.515942</td>\n",
       "      <td>53.516595</td>\n",
       "      <td>9.227661e+05</td>\n",
       "      <td>0.330690</td>\n",
       "      <td>2.259926e+04</td>\n",
       "    </tr>\n",
       "    <tr>\n",
       "      <th>std</th>\n",
       "      <td>20481.541198</td>\n",
       "      <td>3.280819e+06</td>\n",
       "      <td>0.834448</td>\n",
       "      <td>18.444279</td>\n",
       "      <td>1882.884291</td>\n",
       "      <td>0.497324</td>\n",
       "      <td>0.408974</td>\n",
       "      <td>0.487038</td>\n",
       "      <td>7.665389e+06</td>\n",
       "      <td>0.091901</td>\n",
       "      <td>...</td>\n",
       "      <td>0.782996</td>\n",
       "      <td>0.200524</td>\n",
       "      <td>0.291322</td>\n",
       "      <td>0.177250</td>\n",
       "      <td>2265.029862</td>\n",
       "      <td>0.086844</td>\n",
       "      <td>0.067467</td>\n",
       "      <td>7.154532e+06</td>\n",
       "      <td>0.943747</td>\n",
       "      <td>8.250806e+05</td>\n",
       "    </tr>\n",
       "    <tr>\n",
       "      <th>min</th>\n",
       "      <td>0.000000</td>\n",
       "      <td>1.001163e+06</td>\n",
       "      <td>1.000000</td>\n",
       "      <td>1904.000000</td>\n",
       "      <td>2.000000</td>\n",
       "      <td>0.000000</td>\n",
       "      <td>0.000000</td>\n",
       "      <td>0.000000</td>\n",
       "      <td>5.500000e+03</td>\n",
       "      <td>0.000000</td>\n",
       "      <td>...</td>\n",
       "      <td>1.000000</td>\n",
       "      <td>0.000000</td>\n",
       "      <td>0.000000</td>\n",
       "      <td>0.000000</td>\n",
       "      <td>2.000000</td>\n",
       "      <td>-113.712894</td>\n",
       "      <td>53.396061</td>\n",
       "      <td>0.000000e+00</td>\n",
       "      <td>-1.000000</td>\n",
       "      <td>-1.589325e+08</td>\n",
       "    </tr>\n",
       "    <tr>\n",
       "      <th>25%</th>\n",
       "      <td>17328.000000</td>\n",
       "      <td>3.926334e+06</td>\n",
       "      <td>2.000000</td>\n",
       "      <td>1974.000000</td>\n",
       "      <td>109.220000</td>\n",
       "      <td>0.000000</td>\n",
       "      <td>1.000000</td>\n",
       "      <td>0.000000</td>\n",
       "      <td>3.430000e+05</td>\n",
       "      <td>1.000000</td>\n",
       "      <td>...</td>\n",
       "      <td>1.000000</td>\n",
       "      <td>0.000000</td>\n",
       "      <td>0.000000</td>\n",
       "      <td>0.190000</td>\n",
       "      <td>147.000000</td>\n",
       "      <td>-113.581567</td>\n",
       "      <td>53.461123</td>\n",
       "      <td>3.500000e+05</td>\n",
       "      <td>-1.000000</td>\n",
       "      <td>-3.000000e+03</td>\n",
       "    </tr>\n",
       "    <tr>\n",
       "      <th>50%</th>\n",
       "      <td>35347.000000</td>\n",
       "      <td>8.375057e+06</td>\n",
       "      <td>2.000000</td>\n",
       "      <td>1987.000000</td>\n",
       "      <td>142.940000</td>\n",
       "      <td>0.000000</td>\n",
       "      <td>1.000000</td>\n",
       "      <td>1.000000</td>\n",
       "      <td>4.260000e+05</td>\n",
       "      <td>1.000000</td>\n",
       "      <td>...</td>\n",
       "      <td>1.000000</td>\n",
       "      <td>0.000000</td>\n",
       "      <td>0.000000</td>\n",
       "      <td>0.260000</td>\n",
       "      <td>185.000000</td>\n",
       "      <td>-113.517654</td>\n",
       "      <td>53.504057</td>\n",
       "      <td>4.335000e+05</td>\n",
       "      <td>1.000000</td>\n",
       "      <td>4.500000e+03</td>\n",
       "    </tr>\n",
       "    <tr>\n",
       "      <th>75%</th>\n",
       "      <td>52840.000000</td>\n",
       "      <td>1.000713e+07</td>\n",
       "      <td>2.000000</td>\n",
       "      <td>2004.000000</td>\n",
       "      <td>203.500000</td>\n",
       "      <td>1.000000</td>\n",
       "      <td>1.000000</td>\n",
       "      <td>1.000000</td>\n",
       "      <td>5.680000e+05</td>\n",
       "      <td>1.000000</td>\n",
       "      <td>...</td>\n",
       "      <td>1.000000</td>\n",
       "      <td>0.000000</td>\n",
       "      <td>0.000000</td>\n",
       "      <td>0.320000</td>\n",
       "      <td>250.000000</td>\n",
       "      <td>-113.439121</td>\n",
       "      <td>53.576861</td>\n",
       "      <td>5.685000e+05</td>\n",
       "      <td>1.000000</td>\n",
       "      <td>1.150000e+04</td>\n",
       "    </tr>\n",
       "    <tr>\n",
       "      <th>max</th>\n",
       "      <td>71521.000000</td>\n",
       "      <td>1.069713e+07</td>\n",
       "      <td>6.000000</td>\n",
       "      <td>2014.000000</td>\n",
       "      <td>119965.000000</td>\n",
       "      <td>1.000000</td>\n",
       "      <td>1.000000</td>\n",
       "      <td>1.000000</td>\n",
       "      <td>1.527078e+09</td>\n",
       "      <td>1.000000</td>\n",
       "      <td>...</td>\n",
       "      <td>84.000000</td>\n",
       "      <td>1.000000</td>\n",
       "      <td>1.000000</td>\n",
       "      <td>9.990000</td>\n",
       "      <td>201260.000000</td>\n",
       "      <td>-113.281236</td>\n",
       "      <td>53.715149</td>\n",
       "      <td>1.368145e+09</td>\n",
       "      <td>1.000000</td>\n",
       "      <td>2.813900e+07</td>\n",
       "    </tr>\n",
       "  </tbody>\n",
       "</table>\n",
       "<p>8 rows × 21 columns</p>\n",
       "</div>"
      ],
      "text/plain": [
       "         Unnamed: 0  taxroll_number  property_type  effective_build_year  \\\n",
       "count  61281.000000    6.128100e+04   61281.000000          61281.000000   \n",
       "mean   35257.473654    7.020721e+06       2.341231           1986.849056   \n",
       "std    20481.541198    3.280819e+06       0.834448             18.444279   \n",
       "min        0.000000    1.001163e+06       1.000000           1904.000000   \n",
       "25%    17328.000000    3.926334e+06       2.000000           1974.000000   \n",
       "50%    35347.000000    8.375057e+06       2.000000           1987.000000   \n",
       "75%    52840.000000    1.000713e+07       2.000000           2004.000000   \n",
       "max    71521.000000    1.069713e+07       6.000000           2014.000000   \n",
       "\n",
       "            net_area  basement_finished    has_garage  has_fireplace  \\\n",
       "count   61281.000000       61281.000000  61281.000000   61281.000000   \n",
       "mean      381.030083           0.448296      0.787650       0.613126   \n",
       "std      1882.884291           0.497324      0.408974       0.487038   \n",
       "min         2.000000           0.000000      0.000000       0.000000   \n",
       "25%       109.220000           0.000000      1.000000       0.000000   \n",
       "50%       142.940000           0.000000      1.000000       1.000000   \n",
       "75%       203.500000           1.000000      1.000000       1.000000   \n",
       "max    119965.000000           1.000000      1.000000       1.000000   \n",
       "\n",
       "       assessed_value  fully_taxable  ...  building_count  walkout_basement  \\\n",
       "count    6.128100e+04   61281.000000  ...    61281.000000      61281.000000   \n",
       "mean     9.001669e+05       0.991482  ...        1.070577          0.041971   \n",
       "std      7.665389e+06       0.091901  ...        0.782996          0.200524   \n",
       "min      5.500000e+03       0.000000  ...        1.000000          0.000000   \n",
       "25%      3.430000e+05       1.000000  ...        1.000000          0.000000   \n",
       "50%      4.260000e+05       1.000000  ...        1.000000          0.000000   \n",
       "75%      5.680000e+05       1.000000  ...        1.000000          0.000000   \n",
       "max      1.527078e+09       1.000000  ...       84.000000          1.000000   \n",
       "\n",
       "       air_conditioning  site_coverage  tot_gross_area_description  \\\n",
       "count      61281.000000   61281.000000                61281.000000   \n",
       "mean           0.093634       0.267357                  450.919714   \n",
       "std            0.291322       0.177250                 2265.029862   \n",
       "min            0.000000       0.000000                    2.000000   \n",
       "25%            0.000000       0.190000                  147.000000   \n",
       "50%            0.000000       0.260000                  185.000000   \n",
       "75%            0.000000       0.320000                  250.000000   \n",
       "max            1.000000       9.990000               201260.000000   \n",
       "\n",
       "                lon           lat  Assessed Value 2016    prediction  \\\n",
       "count  61281.000000  61281.000000         6.128100e+04  61281.000000   \n",
       "mean    -113.515942     53.516595         9.227661e+05      0.330690   \n",
       "std        0.086844      0.067467         7.154532e+06      0.943747   \n",
       "min     -113.712894     53.396061         0.000000e+00     -1.000000   \n",
       "25%     -113.581567     53.461123         3.500000e+05     -1.000000   \n",
       "50%     -113.517654     53.504057         4.335000e+05      1.000000   \n",
       "75%     -113.439121     53.576861         5.685000e+05      1.000000   \n",
       "max     -113.281236     53.715149         1.368145e+09      1.000000   \n",
       "\n",
       "       Value change  \n",
       "count  6.128100e+04  \n",
       "mean   2.259926e+04  \n",
       "std    8.250806e+05  \n",
       "min   -1.589325e+08  \n",
       "25%   -3.000000e+03  \n",
       "50%    4.500000e+03  \n",
       "75%    1.150000e+04  \n",
       "max    2.813900e+07  \n",
       "\n",
       "[8 rows x 21 columns]"
      ]
     },
     "execution_count": 25,
     "metadata": {},
     "output_type": "execute_result"
    }
   ],
   "source": [
    "NewHouseData.describe()"
   ]
  },
  {
   "cell_type": "code",
   "execution_count": 26,
   "id": "7728f722",
   "metadata": {},
   "outputs": [
    {
     "data": {
      "text/plain": [
       "(61281, 21)"
      ]
     },
     "execution_count": 26,
     "metadata": {},
     "output_type": "execute_result"
    }
   ],
   "source": [
    "NewHouseData.shape"
   ]
  },
  {
   "cell_type": "code",
   "execution_count": 27,
   "id": "bb856606",
   "metadata": {},
   "outputs": [],
   "source": [
    "HouseData = NewHouseData"
   ]
  },
  {
   "cell_type": "code",
   "execution_count": 167,
   "id": "40c067a5",
   "metadata": {},
   "outputs": [],
   "source": [
    "HouseData.to_csv('F:\\ECE 625\\project\\ECE_625_project\\PredictData(Task_2).csv')"
   ]
  },
  {
   "cell_type": "markdown",
   "id": "5708b305",
   "metadata": {},
   "source": [
    "# Object_1(Use assessed value)"
   ]
  },
  {
   "cell_type": "code",
   "execution_count": 245,
   "id": "08d6221a",
   "metadata": {},
   "outputs": [],
   "source": [
    "X = HouseData.loc[:,['property_type','effective_build_year','net_area','basement_finished',\\\n",
    "'has_garage','has_fireplace','fully_taxable','fully_complete','building_count','walkout_basement'\\\n",
    "    ,'air_conditioning','site_coverage','tot_gross_area_description','assessed_value','lon','lat']]\n",
    "Y = HouseData['prediction']\n",
    "X_train, X_test, Y_train, Y_test = train_test_split( X , Y , test_size = 0.1, random_state = 8)"
   ]
  },
  {
   "cell_type": "code",
   "execution_count": 246,
   "id": "dc4a9508",
   "metadata": {},
   "outputs": [],
   "source": [
    "ss = StandardScaler()\n",
    "X_train = ss.fit_transform(X_train)\n",
    "X_test = ss.transform(X_test)  "
   ]
  },
  {
   "cell_type": "code",
   "execution_count": 247,
   "id": "0b4343b1",
   "metadata": {},
   "outputs": [
    {
     "name": "stdout",
     "output_type": "stream",
     "text": [
      "(55152, 16) (55152,) (6129, 16) (6129,)\n"
     ]
    }
   ],
   "source": [
    "print(X_train.shape,Y_train.shape,X_test.shape,Y_test.shape)"
   ]
  },
  {
   "cell_type": "code",
   "execution_count": 248,
   "id": "745f2e1f",
   "metadata": {},
   "outputs": [],
   "source": [
    "from sklearn.linear_model import LogisticRegressionCV,LinearRegression\n",
    "import matplotlib.pyplot as plt\n",
    "Model_accuracy = []\n",
    "Model_name = []"
   ]
  },
  {
   "cell_type": "markdown",
   "id": "dc0d731f",
   "metadata": {},
   "source": [
    "## Logistic Regression "
   ]
  },
  {
   "cell_type": "code",
   "execution_count": 249,
   "id": "04058e6e",
   "metadata": {},
   "outputs": [
    {
     "name": "stdout",
     "output_type": "stream",
     "text": [
      "Model accuracity: 0.6839614945341818\n"
     ]
    },
    {
     "data": {
      "text/html": [
       "<div>\n",
       "<style scoped>\n",
       "    .dataframe tbody tr th:only-of-type {\n",
       "        vertical-align: middle;\n",
       "    }\n",
       "\n",
       "    .dataframe tbody tr th {\n",
       "        vertical-align: top;\n",
       "    }\n",
       "\n",
       "    .dataframe thead th {\n",
       "        text-align: right;\n",
       "    }\n",
       "</style>\n",
       "<table border=\"1\" class=\"dataframe\">\n",
       "  <thead>\n",
       "    <tr style=\"text-align: right;\">\n",
       "      <th></th>\n",
       "      <th>0</th>\n",
       "      <th>1</th>\n",
       "    </tr>\n",
       "  </thead>\n",
       "  <tbody>\n",
       "    <tr>\n",
       "      <th>0</th>\n",
       "      <td>276</td>\n",
       "      <td>1751</td>\n",
       "    </tr>\n",
       "    <tr>\n",
       "      <th>1</th>\n",
       "      <td>186</td>\n",
       "      <td>3916</td>\n",
       "    </tr>\n",
       "  </tbody>\n",
       "</table>\n",
       "</div>"
      ],
      "text/plain": [
       "     0     1\n",
       "0  276  1751\n",
       "1  186  3916"
      ]
     },
     "execution_count": 249,
     "metadata": {},
     "output_type": "execute_result"
    }
   ],
   "source": [
    "LogisticReg = linear_model.LogisticRegression(penalty = 'l2',solver = 'lbfgs')\n",
    "LogisticReg.fit(X_train,Y_train)\n",
    "\n",
    "Logistic_pred = LogisticReg.predict(X_test)\n",
    "\n",
    "Logistic_cm = confusion_matrix(Y_test, Logistic_pred)\n",
    "\n",
    "print(\"Model accuracity:\",accuracy_score(Y_test,Logistic_pred))\n",
    "Model_accuracy.append(accuracy_score(Y_test,Logistic_pred))\n",
    "Model_name.append('Logistic Regression')\n",
    "\n",
    "pd.DataFrame(Logistic_cm)"
   ]
  },
  {
   "cell_type": "code",
   "execution_count": 250,
   "id": "ed6476b5",
   "metadata": {},
   "outputs": [],
   "source": [
    "Logistic_scores = cross_val_score(LogisticReg,X_test,Y_test,cv=10)\n",
    "Logistic_Dscore = cross_val_predict(LogisticReg, X_test, Y_test, cv=10, \\\n",
    "                                    method=\"decision_function\")\n",
    "Logistic_f1 = f1_score(Y_test, Logistic_pred)"
   ]
  },
  {
   "cell_type": "markdown",
   "id": "1c22da40",
   "metadata": {},
   "source": [
    "## LinearSVC"
   ]
  },
  {
   "cell_type": "code",
   "execution_count": 251,
   "id": "a5bcb9cf",
   "metadata": {},
   "outputs": [],
   "source": [
    "from sklearn import svm\n",
    "from sklearn import datasets\n",
    "from sklearn.model_selection import train_test_split as ts\n"
   ]
  },
  {
   "cell_type": "code",
   "execution_count": 252,
   "id": "07e055dd",
   "metadata": {},
   "outputs": [
    {
     "name": "stdout",
     "output_type": "stream",
     "text": [
      "Model accuracy: 0.677761461902431\n"
     ]
    },
    {
     "name": "stderr",
     "output_type": "stream",
     "text": [
      "E:\\Anaconda3\\envs\\py37\\lib\\site-packages\\sklearn\\svm\\_base.py:986: ConvergenceWarning: Liblinear failed to converge, increase the number of iterations.\n",
      "  \"the number of iterations.\", ConvergenceWarning)\n"
     ]
    },
    {
     "data": {
      "text/html": [
       "<div>\n",
       "<style scoped>\n",
       "    .dataframe tbody tr th:only-of-type {\n",
       "        vertical-align: middle;\n",
       "    }\n",
       "\n",
       "    .dataframe tbody tr th {\n",
       "        vertical-align: top;\n",
       "    }\n",
       "\n",
       "    .dataframe thead th {\n",
       "        text-align: right;\n",
       "    }\n",
       "</style>\n",
       "<table border=\"1\" class=\"dataframe\">\n",
       "  <thead>\n",
       "    <tr style=\"text-align: right;\">\n",
       "      <th></th>\n",
       "      <th>0</th>\n",
       "      <th>1</th>\n",
       "    </tr>\n",
       "  </thead>\n",
       "  <tbody>\n",
       "    <tr>\n",
       "      <th>0</th>\n",
       "      <td>192</td>\n",
       "      <td>1835</td>\n",
       "    </tr>\n",
       "    <tr>\n",
       "      <th>1</th>\n",
       "      <td>140</td>\n",
       "      <td>3962</td>\n",
       "    </tr>\n",
       "  </tbody>\n",
       "</table>\n",
       "</div>"
      ],
      "text/plain": [
       "     0     1\n",
       "0  192  1835\n",
       "1  140  3962"
      ]
     },
     "execution_count": 252,
     "metadata": {},
     "output_type": "execute_result"
    }
   ],
   "source": [
    "LinearSVC = svm.LinearSVC()\n",
    "LinearSVC.fit(X_train,Y_train)\n",
    "SVC_pred = LinearSVC.predict(X_test)\n",
    "\n",
    "SVC_cm = confusion_matrix(Y_test, SVC_pred)\n",
    "\n",
    "print(\"Model accuracy:\",accuracy_score(Y_test,SVC_pred))\n",
    "Model_accuracy.append(accuracy_score(Y_test,SVC_pred))\n",
    "Model_name.append('LinearSVC')\n",
    "\n",
    "pd.DataFrame(SVC_cm)"
   ]
  },
  {
   "cell_type": "code",
   "execution_count": 253,
   "id": "670091c8",
   "metadata": {
    "scrolled": true
   },
   "outputs": [
    {
     "name": "stderr",
     "output_type": "stream",
     "text": [
      "E:\\Anaconda3\\envs\\py37\\lib\\site-packages\\sklearn\\svm\\_base.py:986: ConvergenceWarning: Liblinear failed to converge, increase the number of iterations.\n",
      "  \"the number of iterations.\", ConvergenceWarning)\n",
      "E:\\Anaconda3\\envs\\py37\\lib\\site-packages\\sklearn\\svm\\_base.py:986: ConvergenceWarning: Liblinear failed to converge, increase the number of iterations.\n",
      "  \"the number of iterations.\", ConvergenceWarning)\n",
      "E:\\Anaconda3\\envs\\py37\\lib\\site-packages\\sklearn\\svm\\_base.py:986: ConvergenceWarning: Liblinear failed to converge, increase the number of iterations.\n",
      "  \"the number of iterations.\", ConvergenceWarning)\n",
      "E:\\Anaconda3\\envs\\py37\\lib\\site-packages\\sklearn\\svm\\_base.py:986: ConvergenceWarning: Liblinear failed to converge, increase the number of iterations.\n",
      "  \"the number of iterations.\", ConvergenceWarning)\n",
      "E:\\Anaconda3\\envs\\py37\\lib\\site-packages\\sklearn\\svm\\_base.py:986: ConvergenceWarning: Liblinear failed to converge, increase the number of iterations.\n",
      "  \"the number of iterations.\", ConvergenceWarning)\n",
      "E:\\Anaconda3\\envs\\py37\\lib\\site-packages\\sklearn\\svm\\_base.py:986: ConvergenceWarning: Liblinear failed to converge, increase the number of iterations.\n",
      "  \"the number of iterations.\", ConvergenceWarning)\n",
      "E:\\Anaconda3\\envs\\py37\\lib\\site-packages\\sklearn\\svm\\_base.py:986: ConvergenceWarning: Liblinear failed to converge, increase the number of iterations.\n",
      "  \"the number of iterations.\", ConvergenceWarning)\n",
      "E:\\Anaconda3\\envs\\py37\\lib\\site-packages\\sklearn\\svm\\_base.py:986: ConvergenceWarning: Liblinear failed to converge, increase the number of iterations.\n",
      "  \"the number of iterations.\", ConvergenceWarning)\n",
      "E:\\Anaconda3\\envs\\py37\\lib\\site-packages\\sklearn\\svm\\_base.py:986: ConvergenceWarning: Liblinear failed to converge, increase the number of iterations.\n",
      "  \"the number of iterations.\", ConvergenceWarning)\n",
      "E:\\Anaconda3\\envs\\py37\\lib\\site-packages\\sklearn\\svm\\_base.py:986: ConvergenceWarning: Liblinear failed to converge, increase the number of iterations.\n",
      "  \"the number of iterations.\", ConvergenceWarning)\n",
      "E:\\Anaconda3\\envs\\py37\\lib\\site-packages\\sklearn\\svm\\_base.py:986: ConvergenceWarning: Liblinear failed to converge, increase the number of iterations.\n",
      "  \"the number of iterations.\", ConvergenceWarning)\n",
      "E:\\Anaconda3\\envs\\py37\\lib\\site-packages\\sklearn\\svm\\_base.py:986: ConvergenceWarning: Liblinear failed to converge, increase the number of iterations.\n",
      "  \"the number of iterations.\", ConvergenceWarning)\n",
      "E:\\Anaconda3\\envs\\py37\\lib\\site-packages\\sklearn\\svm\\_base.py:986: ConvergenceWarning: Liblinear failed to converge, increase the number of iterations.\n",
      "  \"the number of iterations.\", ConvergenceWarning)\n",
      "E:\\Anaconda3\\envs\\py37\\lib\\site-packages\\sklearn\\svm\\_base.py:986: ConvergenceWarning: Liblinear failed to converge, increase the number of iterations.\n",
      "  \"the number of iterations.\", ConvergenceWarning)\n",
      "E:\\Anaconda3\\envs\\py37\\lib\\site-packages\\sklearn\\svm\\_base.py:986: ConvergenceWarning: Liblinear failed to converge, increase the number of iterations.\n",
      "  \"the number of iterations.\", ConvergenceWarning)\n",
      "E:\\Anaconda3\\envs\\py37\\lib\\site-packages\\sklearn\\svm\\_base.py:986: ConvergenceWarning: Liblinear failed to converge, increase the number of iterations.\n",
      "  \"the number of iterations.\", ConvergenceWarning)\n",
      "E:\\Anaconda3\\envs\\py37\\lib\\site-packages\\sklearn\\svm\\_base.py:986: ConvergenceWarning: Liblinear failed to converge, increase the number of iterations.\n",
      "  \"the number of iterations.\", ConvergenceWarning)\n",
      "E:\\Anaconda3\\envs\\py37\\lib\\site-packages\\sklearn\\svm\\_base.py:986: ConvergenceWarning: Liblinear failed to converge, increase the number of iterations.\n",
      "  \"the number of iterations.\", ConvergenceWarning)\n",
      "E:\\Anaconda3\\envs\\py37\\lib\\site-packages\\sklearn\\svm\\_base.py:986: ConvergenceWarning: Liblinear failed to converge, increase the number of iterations.\n",
      "  \"the number of iterations.\", ConvergenceWarning)\n",
      "E:\\Anaconda3\\envs\\py37\\lib\\site-packages\\sklearn\\svm\\_base.py:986: ConvergenceWarning: Liblinear failed to converge, increase the number of iterations.\n",
      "  \"the number of iterations.\", ConvergenceWarning)\n"
     ]
    }
   ],
   "source": [
    "SVC_scores = cross_val_score(LinearSVC,X_test,Y_test,cv=10)\n",
    "SVC_Dscore = cross_val_predict(LinearSVC, X_test, Y_test, cv=10, \\\n",
    "                                    method=\"decision_function\")\n",
    "SVC_f1 = f1_score(Y_test, SVC_pred)"
   ]
  },
  {
   "cell_type": "markdown",
   "id": "cd8329e4",
   "metadata": {},
   "source": [
    "## Decision Tree"
   ]
  },
  {
   "cell_type": "code",
   "execution_count": 254,
   "id": "93c7ce36",
   "metadata": {},
   "outputs": [
    {
     "name": "stdout",
     "output_type": "stream",
     "text": [
      "Model accuracity: 0.8577255669766684\n"
     ]
    },
    {
     "data": {
      "text/html": [
       "<div>\n",
       "<style scoped>\n",
       "    .dataframe tbody tr th:only-of-type {\n",
       "        vertical-align: middle;\n",
       "    }\n",
       "\n",
       "    .dataframe tbody tr th {\n",
       "        vertical-align: top;\n",
       "    }\n",
       "\n",
       "    .dataframe thead th {\n",
       "        text-align: right;\n",
       "    }\n",
       "</style>\n",
       "<table border=\"1\" class=\"dataframe\">\n",
       "  <thead>\n",
       "    <tr style=\"text-align: right;\">\n",
       "      <th></th>\n",
       "      <th>0</th>\n",
       "      <th>1</th>\n",
       "    </tr>\n",
       "  </thead>\n",
       "  <tbody>\n",
       "    <tr>\n",
       "      <th>0</th>\n",
       "      <td>1574</td>\n",
       "      <td>453</td>\n",
       "    </tr>\n",
       "    <tr>\n",
       "      <th>1</th>\n",
       "      <td>419</td>\n",
       "      <td>3683</td>\n",
       "    </tr>\n",
       "  </tbody>\n",
       "</table>\n",
       "</div>"
      ],
      "text/plain": [
       "      0     1\n",
       "0  1574   453\n",
       "1   419  3683"
      ]
     },
     "execution_count": 254,
     "metadata": {},
     "output_type": "execute_result"
    }
   ],
   "source": [
    "from sklearn import tree\n",
    "Decision_Tree = tree.DecisionTreeClassifier()\n",
    "Decision_Tree.fit(X_train,Y_train)\n",
    "\n",
    "DT_pred = Decision_Tree.predict(X_test)\n",
    "\n",
    "DT_cm = confusion_matrix(Y_test, DT_pred)\n",
    "\n",
    "print(\"Model accuracity:\",accuracy_score(Y_test,DT_pred))\n",
    "\n",
    "Model_accuracy.append(accuracy_score(Y_test,DT_pred))\n",
    "Model_name.append('Decision Tree')\n",
    "\n",
    "pd.DataFrame(DT_cm)"
   ]
  },
  {
   "cell_type": "code",
   "execution_count": 255,
   "id": "35ee8f77",
   "metadata": {},
   "outputs": [],
   "source": [
    "DT_scores = cross_val_score(Decision_Tree,X_test,Y_test,cv=10)"
   ]
  },
  {
   "cell_type": "code",
   "execution_count": 256,
   "id": "555c6c2e",
   "metadata": {},
   "outputs": [],
   "source": [
    "DT_Dscore = Decision_Tree.predict_proba(X_test)"
   ]
  },
  {
   "cell_type": "code",
   "execution_count": 257,
   "id": "f81328a5",
   "metadata": {},
   "outputs": [],
   "source": [
    "DT_f1 = f1_score(Y_test, DT_pred)"
   ]
  },
  {
   "cell_type": "markdown",
   "id": "7a63179e",
   "metadata": {},
   "source": [
    "## Random Forest "
   ]
  },
  {
   "cell_type": "code",
   "execution_count": 258,
   "id": "83bda16f",
   "metadata": {},
   "outputs": [
    {
     "name": "stdout",
     "output_type": "stream",
     "text": [
      "Model accuracity (random forest scikit-learn): 0.8880730951215533\n"
     ]
    },
    {
     "data": {
      "text/html": [
       "<div>\n",
       "<style scoped>\n",
       "    .dataframe tbody tr th:only-of-type {\n",
       "        vertical-align: middle;\n",
       "    }\n",
       "\n",
       "    .dataframe tbody tr th {\n",
       "        vertical-align: top;\n",
       "    }\n",
       "\n",
       "    .dataframe thead th {\n",
       "        text-align: right;\n",
       "    }\n",
       "</style>\n",
       "<table border=\"1\" class=\"dataframe\">\n",
       "  <thead>\n",
       "    <tr style=\"text-align: right;\">\n",
       "      <th></th>\n",
       "      <th>0</th>\n",
       "      <th>1</th>\n",
       "    </tr>\n",
       "  </thead>\n",
       "  <tbody>\n",
       "    <tr>\n",
       "      <th>0</th>\n",
       "      <td>1611</td>\n",
       "      <td>416</td>\n",
       "    </tr>\n",
       "    <tr>\n",
       "      <th>1</th>\n",
       "      <td>270</td>\n",
       "      <td>3832</td>\n",
       "    </tr>\n",
       "  </tbody>\n",
       "</table>\n",
       "</div>"
      ],
      "text/plain": [
       "      0     1\n",
       "0  1611   416\n",
       "1   270  3832"
      ]
     },
     "execution_count": 258,
     "metadata": {},
     "output_type": "execute_result"
    }
   ],
   "source": [
    "from sklearn.ensemble import RandomForestClassifier\n",
    "from sklearn.model_selection import train_test_split,cross_val_score\n",
    "\n",
    "RFC = RandomForestClassifier(n_estimators=150, max_depth=30)\n",
    "RFC.fit(X_train,Y_train)\n",
    "\n",
    "RFC_pred = RFC.predict(X_test)\n",
    "\n",
    "RFC_cm = confusion_matrix(Y_test, RF_pred)\n",
    "\n",
    "print(\"Model accuracity (random forest scikit-learn):\",accuracy_score(Y_test,RF_pred))\n",
    "Model_accuracy.append(accuracy_score(Y_test,RF_pred))\n",
    "Model_name.append('Random Forest')\n",
    "\n",
    "\n",
    "pd.DataFrame(RFC_cm)"
   ]
  },
  {
   "cell_type": "code",
   "execution_count": 259,
   "id": "3aaff823",
   "metadata": {},
   "outputs": [],
   "source": [
    "RFC_scores = cross_val_score(RFC,X_test,Y_test,cv=10)"
   ]
  },
  {
   "cell_type": "code",
   "execution_count": 260,
   "id": "8c3f2411",
   "metadata": {},
   "outputs": [],
   "source": [
    "RFC_Dscore = RFC.predict_proba(X_test)"
   ]
  },
  {
   "cell_type": "code",
   "execution_count": 261,
   "id": "f449a7ef",
   "metadata": {},
   "outputs": [],
   "source": [
    "RFC_f1 = f1_score(Y_test, RFC_pred)"
   ]
  },
  {
   "cell_type": "code",
   "execution_count": 262,
   "id": "3064c930",
   "metadata": {
    "scrolled": false
   },
   "outputs": [
    {
     "data": {
      "image/png": "[encoded data removed]",
      "text/plain": [
       "<Figure size 1360x640 with 1 Axes>"
      ]
     },
     "metadata": {
      "needs_background": "light"
     },
     "output_type": "display_data"
    }
   ],
   "source": [
    "k = range(1,11)\n",
    "fig = plt.figure(num=1, figsize=(17, 8),dpi=80)\n",
    "plt.plot(k,Logistic_scores,label = 'Logistic Regression')\n",
    "plt.plot(k,RFC_scores,label = 'Random Forest')\n",
    "plt.plot(k,DT_scores,label = 'Decision Tree')\n",
    "plt.plot(k,SVC_scores,label = 'SVC')\n",
    "plt.legend()\n",
    "plt.xlabel('K')\n",
    "plt.ylabel('Accuracy')\n",
    "\n",
    "plt.show()"
   ]
  },
  {
   "cell_type": "code",
   "execution_count": 263,
   "id": "3381c08f",
   "metadata": {
    "scrolled": true
   },
   "outputs": [
    {
     "data": {
      "image/png": "[encoded data removed]",
      "text/plain": [
       "<Figure size 880x320 with 1 Axes>"
      ]
     },
     "metadata": {
      "needs_background": "light"
     },
     "output_type": "display_data"
    }
   ],
   "source": [
    "f,fig = plt.subplots(num=1, figsize=(11, 4),dpi=80)\n",
    "fig.barh(Model_name, Model_accuracy,tick_label=Model_name,height = 0.4)\n",
    "fig.spines['right'].set_visible(False)\n",
    "fig.spines['top'].set_visible(False)\n",
    "fig.spines['bottom'].set_visible(False)\n",
    "\n",
    "plt.ylabel('name')\n",
    "plt.xlabel('Accuracy')\n",
    "plt.title(\"Model Accuracy\")\n",
    "plt.xlim(0,1)\n",
    "plt.show()"
   ]
  },
  {
   "cell_type": "code",
   "execution_count": 264,
   "id": "a844d35c",
   "metadata": {},
   "outputs": [
    {
     "data": {
      "image/png": "[encoded data removed]",
      "text/plain": [
       "<Figure size 1600x800 with 1 Axes>"
      ]
     },
     "metadata": {
      "needs_background": "light"
     },
     "output_type": "display_data"
    }
   ],
   "source": [
    "from sklearn.metrics import roc_curve\n",
    "fig = plt.figure(num=1, figsize=(20, 10),dpi=80)\n",
    "\n",
    "fpr,tpr,threshold = roc_curve(Y_test,Logistic_Dscore)\n",
    "plt.plot(fpr[:-1],tpr[:-1],label = 'Logistic Regression')\n",
    "\n",
    "fpr,tpr,threshold = roc_curve(Y_test,SVC_Dscore)\n",
    "plt.plot(fpr[:-1],tpr[:-1],label = 'Linear SVC')\n",
    "\n",
    "fpr,tpr,threshold = roc_curve(Y_test,DT_Dscore[:,1])\n",
    "plt.plot(fpr,tpr,label = 'Decision Tree')\n",
    "\n",
    "fpr,tpr,threshold = roc_curve(Y_test,RFC_Dscore[:,1])\n",
    "plt.plot(fpr,tpr,label = 'Random Forest')\n",
    "\n",
    "plt.title('ROC Curve')\n",
    "plt.legend()\n",
    "plt.show()\n"
   ]
  },
  {
   "cell_type": "code",
   "execution_count": 265,
   "id": "d0839a26",
   "metadata": {},
   "outputs": [],
   "source": [
    "result = pd.DataFrame(columns=('Logistic Regression','Random Forest','Decision Tree','SVC'), \\\n",
    "                      index = ['Accuracy', 'Accuracy(10 fold cross validation)','f1 score'])"
   ]
  },
  {
   "cell_type": "code",
   "execution_count": 266,
   "id": "5be11595",
   "metadata": {},
   "outputs": [],
   "source": [
    "result['Logistic Regression'] = [accuracy_score(Y_test,Logistic_pred),Logistic_scores.max(),\\\n",
    "                                Logistic_f1]\n",
    "\n",
    "result['Random Forest'] = [accuracy_score(Y_test,RFC_pred), RFC_scores.max(), RFC_f1]\n",
    "\n",
    "result['Decision Tree'] = [accuracy_score(Y_test,DT_pred), DT_scores.max(), DT_f1]\n",
    "\n",
    "result['SVC'] = [accuracy_score(Y_test,SVC_pred), SVC_scores.max(), SVC_f1]"
   ]
  },
  {
   "cell_type": "code",
   "execution_count": 267,
   "id": "0d8af321",
   "metadata": {},
   "outputs": [
    {
     "data": {
      "text/html": [
       "<div>\n",
       "<style scoped>\n",
       "    .dataframe tbody tr th:only-of-type {\n",
       "        vertical-align: middle;\n",
       "    }\n",
       "\n",
       "    .dataframe tbody tr th {\n",
       "        vertical-align: top;\n",
       "    }\n",
       "\n",
       "    .dataframe thead th {\n",
       "        text-align: right;\n",
       "    }\n",
       "</style>\n",
       "<table border=\"1\" class=\"dataframe\">\n",
       "  <thead>\n",
       "    <tr style=\"text-align: right;\">\n",
       "      <th></th>\n",
       "      <th>Logistic Regression</th>\n",
       "      <th>Random Forest</th>\n",
       "      <th>Decision Tree</th>\n",
       "      <th>SVC</th>\n",
       "    </tr>\n",
       "  </thead>\n",
       "  <tbody>\n",
       "    <tr>\n",
       "      <th>Accuracy</th>\n",
       "      <td>0.683961</td>\n",
       "      <td>0.886605</td>\n",
       "      <td>0.857726</td>\n",
       "      <td>0.677761</td>\n",
       "    </tr>\n",
       "    <tr>\n",
       "      <th>Accuracy(10 fold cross validation)</th>\n",
       "      <td>0.704731</td>\n",
       "      <td>0.841762</td>\n",
       "      <td>0.802610</td>\n",
       "      <td>0.699837</td>\n",
       "    </tr>\n",
       "    <tr>\n",
       "      <th>f1 score</th>\n",
       "      <td>0.801720</td>\n",
       "      <td>0.916537</td>\n",
       "      <td>0.894149</td>\n",
       "      <td>0.800485</td>\n",
       "    </tr>\n",
       "  </tbody>\n",
       "</table>\n",
       "</div>"
      ],
      "text/plain": [
       "                                    Logistic Regression  Random Forest  \\\n",
       "Accuracy                                       0.683961       0.886605   \n",
       "Accuracy(10 fold cross validation)             0.704731       0.841762   \n",
       "f1 score                                       0.801720       0.916537   \n",
       "\n",
       "                                    Decision Tree       SVC  \n",
       "Accuracy                                 0.857726  0.677761  \n",
       "Accuracy(10 fold cross validation)       0.802610  0.699837  \n",
       "f1 score                                 0.894149  0.800485  "
      ]
     },
     "execution_count": 267,
     "metadata": {},
     "output_type": "execute_result"
    }
   ],
   "source": [
    "result"
   ]
  },
  {
   "cell_type": "code",
   "execution_count": null,
   "id": "1f71c8d9",
   "metadata": {},
   "outputs": [],
   "source": []
  },
  {
   "cell_type": "markdown",
   "id": "23dbaf8f",
   "metadata": {},
   "source": [
    "# Objective_2(Don't use assessed value)"
   ]
  },
  {
   "cell_type": "code",
   "execution_count": 268,
   "id": "25a04e0f",
   "metadata": {},
   "outputs": [],
   "source": [
    "X = HouseData.loc[:,['property_type','effective_build_year','net_area','basement_finished',\\\n",
    "'has_garage','has_fireplace','fully_taxable','fully_complete','building_count','walkout_basement'\\\n",
    "    ,'air_conditioning','site_coverage','tot_gross_area_description','lon','lat']]\n",
    "Y = HouseData['prediction']\n",
    "X_train, X_test, Y_train, Y_test = train_test_split( X , Y , test_size = 0.1, random_state = 8)"
   ]
  },
  {
   "cell_type": "code",
   "execution_count": 269,
   "id": "30322a73",
   "metadata": {},
   "outputs": [
    {
     "name": "stdout",
     "output_type": "stream",
     "text": [
      "(55152, 15) (55152,) (6129, 15) (6129,)\n"
     ]
    }
   ],
   "source": [
    "ss = StandardScaler()\n",
    "X_train = ss.fit_transform(X_train)\n",
    "X_test = ss.transform(X_test)  \n",
    "print(X_train.shape,Y_train.shape,X_test.shape,Y_test.shape)\n",
    "\n",
    "Model_accuracy = []\n",
    "Model_name = []"
   ]
  },
  {
   "cell_type": "markdown",
   "id": "df9023a2",
   "metadata": {},
   "source": [
    "## Logistic Regression "
   ]
  },
  {
   "cell_type": "code",
   "execution_count": 270,
   "id": "a17637cf",
   "metadata": {},
   "outputs": [
    {
     "name": "stdout",
     "output_type": "stream",
     "text": [
      "Model accuracity: 0.6836351770272475\n"
     ]
    },
    {
     "data": {
      "text/html": [
       "<div>\n",
       "<style scoped>\n",
       "    .dataframe tbody tr th:only-of-type {\n",
       "        vertical-align: middle;\n",
       "    }\n",
       "\n",
       "    .dataframe tbody tr th {\n",
       "        vertical-align: top;\n",
       "    }\n",
       "\n",
       "    .dataframe thead th {\n",
       "        text-align: right;\n",
       "    }\n",
       "</style>\n",
       "<table border=\"1\" class=\"dataframe\">\n",
       "  <thead>\n",
       "    <tr style=\"text-align: right;\">\n",
       "      <th></th>\n",
       "      <th>0</th>\n",
       "      <th>1</th>\n",
       "    </tr>\n",
       "  </thead>\n",
       "  <tbody>\n",
       "    <tr>\n",
       "      <th>0</th>\n",
       "      <td>273</td>\n",
       "      <td>1754</td>\n",
       "    </tr>\n",
       "    <tr>\n",
       "      <th>1</th>\n",
       "      <td>185</td>\n",
       "      <td>3917</td>\n",
       "    </tr>\n",
       "  </tbody>\n",
       "</table>\n",
       "</div>"
      ],
      "text/plain": [
       "     0     1\n",
       "0  273  1754\n",
       "1  185  3917"
      ]
     },
     "execution_count": 270,
     "metadata": {},
     "output_type": "execute_result"
    }
   ],
   "source": [
    "LogisticReg = linear_model.LogisticRegression(penalty = 'l2',solver = 'lbfgs')\n",
    "LogisticReg.fit(X_train,Y_train)\n",
    "\n",
    "Logistic_pred = LogisticReg.predict(X_test)\n",
    "\n",
    "Logistic_cm = confusion_matrix(Y_test, Logistic_pred)\n",
    "\n",
    "print(\"Model accuracity:\",accuracy_score(Y_test,Logistic_pred))\n",
    "Model_accuracy.append(accuracy_score(Y_test,Logistic_pred))\n",
    "Model_name.append('Logistic Regression')\n",
    "\n",
    "pd.DataFrame(Logistic_cm)"
   ]
  },
  {
   "cell_type": "code",
   "execution_count": 271,
   "id": "34160ce4",
   "metadata": {},
   "outputs": [],
   "source": [
    "Logistic_scores = cross_val_score(LogisticReg,X_test,Y_test,cv=10)\n",
    "Logistic_Dscore = cross_val_predict(LogisticReg, X_test, Y_test, cv=10, \\\n",
    "                                    method=\"decision_function\")\n",
    "Logistic_f1 = f1_score(Y_test, Logistic_pred)"
   ]
  },
  {
   "cell_type": "markdown",
   "id": "daf94cb6",
   "metadata": {},
   "source": [
    "## LinearSVC"
   ]
  },
  {
   "cell_type": "code",
   "execution_count": 272,
   "id": "2b5775f1",
   "metadata": {},
   "outputs": [
    {
     "name": "stdout",
     "output_type": "stream",
     "text": [
      "Model accuracy: 0.6780877794093653\n"
     ]
    },
    {
     "name": "stderr",
     "output_type": "stream",
     "text": [
      "E:\\Anaconda3\\envs\\py37\\lib\\site-packages\\sklearn\\svm\\_base.py:986: ConvergenceWarning: Liblinear failed to converge, increase the number of iterations.\n",
      "  \"the number of iterations.\", ConvergenceWarning)\n"
     ]
    },
    {
     "data": {
      "text/html": [
       "<div>\n",
       "<style scoped>\n",
       "    .dataframe tbody tr th:only-of-type {\n",
       "        vertical-align: middle;\n",
       "    }\n",
       "\n",
       "    .dataframe tbody tr th {\n",
       "        vertical-align: top;\n",
       "    }\n",
       "\n",
       "    .dataframe thead th {\n",
       "        text-align: right;\n",
       "    }\n",
       "</style>\n",
       "<table border=\"1\" class=\"dataframe\">\n",
       "  <thead>\n",
       "    <tr style=\"text-align: right;\">\n",
       "      <th></th>\n",
       "      <th>0</th>\n",
       "      <th>1</th>\n",
       "    </tr>\n",
       "  </thead>\n",
       "  <tbody>\n",
       "    <tr>\n",
       "      <th>0</th>\n",
       "      <td>192</td>\n",
       "      <td>1835</td>\n",
       "    </tr>\n",
       "    <tr>\n",
       "      <th>1</th>\n",
       "      <td>138</td>\n",
       "      <td>3964</td>\n",
       "    </tr>\n",
       "  </tbody>\n",
       "</table>\n",
       "</div>"
      ],
      "text/plain": [
       "     0     1\n",
       "0  192  1835\n",
       "1  138  3964"
      ]
     },
     "execution_count": 272,
     "metadata": {},
     "output_type": "execute_result"
    }
   ],
   "source": [
    "LinearSVC = svm.LinearSVC()\n",
    "LinearSVC.fit(X_train,Y_train)\n",
    "SVC_pred = LinearSVC.predict(X_test)\n",
    "\n",
    "SVC_cm = confusion_matrix(Y_test, SVC_pred)\n",
    "\n",
    "print(\"Model accuracy:\",accuracy_score(Y_test,SVC_pred))\n",
    "Model_accuracy.append(accuracy_score(Y_test,SVC_pred))\n",
    "Model_name.append('LinearSVC')\n",
    "\n",
    "pd.DataFrame(SVC_cm)"
   ]
  },
  {
   "cell_type": "code",
   "execution_count": 273,
   "id": "3b950046",
   "metadata": {
    "scrolled": true
   },
   "outputs": [
    {
     "name": "stderr",
     "output_type": "stream",
     "text": [
      "E:\\Anaconda3\\envs\\py37\\lib\\site-packages\\sklearn\\svm\\_base.py:986: ConvergenceWarning: Liblinear failed to converge, increase the number of iterations.\n",
      "  \"the number of iterations.\", ConvergenceWarning)\n",
      "E:\\Anaconda3\\envs\\py37\\lib\\site-packages\\sklearn\\svm\\_base.py:986: ConvergenceWarning: Liblinear failed to converge, increase the number of iterations.\n",
      "  \"the number of iterations.\", ConvergenceWarning)\n",
      "E:\\Anaconda3\\envs\\py37\\lib\\site-packages\\sklearn\\svm\\_base.py:986: ConvergenceWarning: Liblinear failed to converge, increase the number of iterations.\n",
      "  \"the number of iterations.\", ConvergenceWarning)\n",
      "E:\\Anaconda3\\envs\\py37\\lib\\site-packages\\sklearn\\svm\\_base.py:986: ConvergenceWarning: Liblinear failed to converge, increase the number of iterations.\n",
      "  \"the number of iterations.\", ConvergenceWarning)\n",
      "E:\\Anaconda3\\envs\\py37\\lib\\site-packages\\sklearn\\svm\\_base.py:986: ConvergenceWarning: Liblinear failed to converge, increase the number of iterations.\n",
      "  \"the number of iterations.\", ConvergenceWarning)\n",
      "E:\\Anaconda3\\envs\\py37\\lib\\site-packages\\sklearn\\svm\\_base.py:986: ConvergenceWarning: Liblinear failed to converge, increase the number of iterations.\n",
      "  \"the number of iterations.\", ConvergenceWarning)\n",
      "E:\\Anaconda3\\envs\\py37\\lib\\site-packages\\sklearn\\svm\\_base.py:986: ConvergenceWarning: Liblinear failed to converge, increase the number of iterations.\n",
      "  \"the number of iterations.\", ConvergenceWarning)\n",
      "E:\\Anaconda3\\envs\\py37\\lib\\site-packages\\sklearn\\svm\\_base.py:986: ConvergenceWarning: Liblinear failed to converge, increase the number of iterations.\n",
      "  \"the number of iterations.\", ConvergenceWarning)\n",
      "E:\\Anaconda3\\envs\\py37\\lib\\site-packages\\sklearn\\svm\\_base.py:986: ConvergenceWarning: Liblinear failed to converge, increase the number of iterations.\n",
      "  \"the number of iterations.\", ConvergenceWarning)\n",
      "E:\\Anaconda3\\envs\\py37\\lib\\site-packages\\sklearn\\svm\\_base.py:986: ConvergenceWarning: Liblinear failed to converge, increase the number of iterations.\n",
      "  \"the number of iterations.\", ConvergenceWarning)\n",
      "E:\\Anaconda3\\envs\\py37\\lib\\site-packages\\sklearn\\svm\\_base.py:986: ConvergenceWarning: Liblinear failed to converge, increase the number of iterations.\n",
      "  \"the number of iterations.\", ConvergenceWarning)\n",
      "E:\\Anaconda3\\envs\\py37\\lib\\site-packages\\sklearn\\svm\\_base.py:986: ConvergenceWarning: Liblinear failed to converge, increase the number of iterations.\n",
      "  \"the number of iterations.\", ConvergenceWarning)\n",
      "E:\\Anaconda3\\envs\\py37\\lib\\site-packages\\sklearn\\svm\\_base.py:986: ConvergenceWarning: Liblinear failed to converge, increase the number of iterations.\n",
      "  \"the number of iterations.\", ConvergenceWarning)\n",
      "E:\\Anaconda3\\envs\\py37\\lib\\site-packages\\sklearn\\svm\\_base.py:986: ConvergenceWarning: Liblinear failed to converge, increase the number of iterations.\n",
      "  \"the number of iterations.\", ConvergenceWarning)\n",
      "E:\\Anaconda3\\envs\\py37\\lib\\site-packages\\sklearn\\svm\\_base.py:986: ConvergenceWarning: Liblinear failed to converge, increase the number of iterations.\n",
      "  \"the number of iterations.\", ConvergenceWarning)\n",
      "E:\\Anaconda3\\envs\\py37\\lib\\site-packages\\sklearn\\svm\\_base.py:986: ConvergenceWarning: Liblinear failed to converge, increase the number of iterations.\n",
      "  \"the number of iterations.\", ConvergenceWarning)\n",
      "E:\\Anaconda3\\envs\\py37\\lib\\site-packages\\sklearn\\svm\\_base.py:986: ConvergenceWarning: Liblinear failed to converge, increase the number of iterations.\n",
      "  \"the number of iterations.\", ConvergenceWarning)\n",
      "E:\\Anaconda3\\envs\\py37\\lib\\site-packages\\sklearn\\svm\\_base.py:986: ConvergenceWarning: Liblinear failed to converge, increase the number of iterations.\n",
      "  \"the number of iterations.\", ConvergenceWarning)\n",
      "E:\\Anaconda3\\envs\\py37\\lib\\site-packages\\sklearn\\svm\\_base.py:986: ConvergenceWarning: Liblinear failed to converge, increase the number of iterations.\n",
      "  \"the number of iterations.\", ConvergenceWarning)\n",
      "E:\\Anaconda3\\envs\\py37\\lib\\site-packages\\sklearn\\svm\\_base.py:986: ConvergenceWarning: Liblinear failed to converge, increase the number of iterations.\n",
      "  \"the number of iterations.\", ConvergenceWarning)\n"
     ]
    }
   ],
   "source": [
    "SVC_scores = cross_val_score(LinearSVC,X_test,Y_test,cv=10)\n",
    "SVC_Dscore = cross_val_predict(LinearSVC, X_test, Y_test, cv=10, \\\n",
    "                                    method=\"decision_function\")\n",
    "SVC_f1 = f1_score(Y_test, SVC_pred)"
   ]
  },
  {
   "cell_type": "markdown",
   "id": "3ee638d2",
   "metadata": {},
   "source": [
    "## Decision Tree"
   ]
  },
  {
   "cell_type": "code",
   "execution_count": 274,
   "id": "deefa3ad",
   "metadata": {},
   "outputs": [
    {
     "name": "stdout",
     "output_type": "stream",
     "text": [
      "Model accuracity: 0.8471202480013053\n"
     ]
    },
    {
     "data": {
      "text/html": [
       "<div>\n",
       "<style scoped>\n",
       "    .dataframe tbody tr th:only-of-type {\n",
       "        vertical-align: middle;\n",
       "    }\n",
       "\n",
       "    .dataframe tbody tr th {\n",
       "        vertical-align: top;\n",
       "    }\n",
       "\n",
       "    .dataframe thead th {\n",
       "        text-align: right;\n",
       "    }\n",
       "</style>\n",
       "<table border=\"1\" class=\"dataframe\">\n",
       "  <thead>\n",
       "    <tr style=\"text-align: right;\">\n",
       "      <th></th>\n",
       "      <th>0</th>\n",
       "      <th>1</th>\n",
       "    </tr>\n",
       "  </thead>\n",
       "  <tbody>\n",
       "    <tr>\n",
       "      <th>0</th>\n",
       "      <td>1579</td>\n",
       "      <td>448</td>\n",
       "    </tr>\n",
       "    <tr>\n",
       "      <th>1</th>\n",
       "      <td>489</td>\n",
       "      <td>3613</td>\n",
       "    </tr>\n",
       "  </tbody>\n",
       "</table>\n",
       "</div>"
      ],
      "text/plain": [
       "      0     1\n",
       "0  1579   448\n",
       "1   489  3613"
      ]
     },
     "execution_count": 274,
     "metadata": {},
     "output_type": "execute_result"
    }
   ],
   "source": [
    "Decision_Tree = tree.DecisionTreeClassifier()\n",
    "Decision_Tree.fit(X_train,Y_train)\n",
    "\n",
    "DT_pred = Decision_Tree.predict(X_test)\n",
    "\n",
    "DT_cm = confusion_matrix(Y_test, DT_pred)\n",
    "\n",
    "print(\"Model accuracity:\",accuracy_score(Y_test,DT_pred))\n",
    "\n",
    "Model_accuracy.append(accuracy_score(Y_test,DT_pred))\n",
    "Model_name.append('Decision Tree')\n",
    "\n",
    "pd.DataFrame(DT_cm)"
   ]
  },
  {
   "cell_type": "code",
   "execution_count": 275,
   "id": "c5024575",
   "metadata": {},
   "outputs": [],
   "source": [
    "DT_scores = cross_val_score(Decision_Tree,X_test,Y_test,cv=10)\n",
    "DT_Dscore = Decision_Tree.predict_proba(X_test)\n",
    "DT_f1 = f1_score(Y_test, DT_pred)"
   ]
  },
  {
   "cell_type": "markdown",
   "id": "c81d2fb8",
   "metadata": {},
   "source": [
    "## Random Forest "
   ]
  },
  {
   "cell_type": "code",
   "execution_count": 276,
   "id": "689546a2",
   "metadata": {},
   "outputs": [
    {
     "name": "stdout",
     "output_type": "stream",
     "text": [
      "Model accuracity (random forest scikit-learn): 0.8880730951215533\n"
     ]
    },
    {
     "data": {
      "text/html": [
       "<div>\n",
       "<style scoped>\n",
       "    .dataframe tbody tr th:only-of-type {\n",
       "        vertical-align: middle;\n",
       "    }\n",
       "\n",
       "    .dataframe tbody tr th {\n",
       "        vertical-align: top;\n",
       "    }\n",
       "\n",
       "    .dataframe thead th {\n",
       "        text-align: right;\n",
       "    }\n",
       "</style>\n",
       "<table border=\"1\" class=\"dataframe\">\n",
       "  <thead>\n",
       "    <tr style=\"text-align: right;\">\n",
       "      <th></th>\n",
       "      <th>0</th>\n",
       "      <th>1</th>\n",
       "    </tr>\n",
       "  </thead>\n",
       "  <tbody>\n",
       "    <tr>\n",
       "      <th>0</th>\n",
       "      <td>1611</td>\n",
       "      <td>416</td>\n",
       "    </tr>\n",
       "    <tr>\n",
       "      <th>1</th>\n",
       "      <td>270</td>\n",
       "      <td>3832</td>\n",
       "    </tr>\n",
       "  </tbody>\n",
       "</table>\n",
       "</div>"
      ],
      "text/plain": [
       "      0     1\n",
       "0  1611   416\n",
       "1   270  3832"
      ]
     },
     "execution_count": 276,
     "metadata": {},
     "output_type": "execute_result"
    }
   ],
   "source": [
    "RFC = RandomForestClassifier(n_estimators=150, max_depth=30)\n",
    "RFC.fit(X_train,Y_train)\n",
    "\n",
    "RFC_pred = RFC.predict(X_test)\n",
    "\n",
    "RFC_cm = confusion_matrix(Y_test, RF_pred)\n",
    "\n",
    "print(\"Model accuracity (random forest scikit-learn):\",accuracy_score(Y_test,RF_pred))\n",
    "Model_accuracy.append(accuracy_score(Y_test,RF_pred))\n",
    "Model_name.append('Random Forest')\n",
    "\n",
    "\n",
    "pd.DataFrame(RFC_cm)"
   ]
  },
  {
   "cell_type": "code",
   "execution_count": 277,
   "id": "be172bdd",
   "metadata": {},
   "outputs": [],
   "source": [
    "RFC_scores = cross_val_score(RFC,X_test,Y_test,cv=10)\n",
    "RFC_Dscore = RFC.predict_proba(X_test)\n",
    "RFC_f1 = f1_score(Y_test, RFC_pred)"
   ]
  },
  {
   "cell_type": "code",
   "execution_count": 278,
   "id": "62b5e462",
   "metadata": {},
   "outputs": [
    {
     "data": {
      "image/png": "[encoded data removed]",
      "text/plain": [
       "<Figure size 1360x640 with 1 Axes>"
      ]
     },
     "metadata": {
      "needs_background": "light"
     },
     "output_type": "display_data"
    }
   ],
   "source": [
    "k = range(1,11)\n",
    "fig = plt.figure(num=1, figsize=(17, 8),dpi=80)\n",
    "plt.plot(k,Logistic_scores,label = 'Logistic Regression')\n",
    "plt.plot(k,RFC_scores,label = 'Random Forest')\n",
    "plt.plot(k,DT_scores,label = 'Decision Tree')\n",
    "plt.plot(k,SVC_scores,label = 'SVC')\n",
    "plt.legend()\n",
    "plt.xlabel('K')\n",
    "plt.ylabel('Accuracy')\n",
    "\n",
    "plt.show()"
   ]
  },
  {
   "cell_type": "code",
   "execution_count": 279,
   "id": "b09bea9d",
   "metadata": {},
   "outputs": [
    {
     "data": {
      "image/png": "[encoded data removed]",
      "text/plain": [
       "<Figure size 880x320 with 1 Axes>"
      ]
     },
     "metadata": {
      "needs_background": "light"
     },
     "output_type": "display_data"
    }
   ],
   "source": [
    "f,fig = plt.subplots(num=1, figsize=(11, 4),dpi=80)\n",
    "fig.barh(Model_name, Model_accuracy,tick_label=Model_name,height = 0.4)\n",
    "fig.spines['right'].set_visible(False)\n",
    "fig.spines['top'].set_visible(False)\n",
    "fig.spines['bottom'].set_visible(False)\n",
    "\n",
    "plt.ylabel('name')\n",
    "plt.xlabel('Accuracy')\n",
    "plt.title(\"Model Accuracy\")\n",
    "plt.xlim(0,1)\n",
    "plt.show()"
   ]
  },
  {
   "cell_type": "code",
   "execution_count": 280,
   "id": "26af75dc",
   "metadata": {},
   "outputs": [
    {
     "data": {
      "image/png": "[encoded data removed]",
      "text/plain": [
       "<Figure size 1600x800 with 1 Axes>"
      ]
     },
     "metadata": {
      "needs_background": "light"
     },
     "output_type": "display_data"
    }
   ],
   "source": [
    "from sklearn.metrics import roc_curve\n",
    "fig = plt.figure(num=1, figsize=(20, 10),dpi=80)\n",
    "\n",
    "fpr,tpr,threshold = roc_curve(Y_test,Logistic_Dscore)\n",
    "plt.plot(fpr[:-1],tpr[:-1],label = 'Logistic Regression')\n",
    "\n",
    "fpr,tpr,threshold = roc_curve(Y_test,SVC_Dscore)\n",
    "plt.plot(fpr[:-1],tpr[:-1],label = 'Linear SVC')\n",
    "\n",
    "fpr,tpr,threshold = roc_curve(Y_test,DT_Dscore[:,1])\n",
    "plt.plot(fpr,tpr,label = 'Decision Tree')\n",
    "\n",
    "fpr,tpr,threshold = roc_curve(Y_test,RFC_Dscore[:,1])\n",
    "plt.plot(fpr,tpr,label = 'Random Forest')\n",
    "\n",
    "plt.title('ROC Curve')\n",
    "plt.legend()\n",
    "plt.show()"
   ]
  },
  {
   "cell_type": "code",
   "execution_count": 281,
   "id": "2dfb2a89",
   "metadata": {},
   "outputs": [],
   "source": [
    "result = pd.DataFrame(columns=('Logistic Regression','Random Forest','Decision Tree','SVC'), \\\n",
    "                      index = ['Accuracy', 'Accuracy(10 fold cross validation)','f1 score'])"
   ]
  },
  {
   "cell_type": "code",
   "execution_count": 282,
   "id": "8a6e67d3",
   "metadata": {},
   "outputs": [],
   "source": [
    "result['Logistic Regression'] = [accuracy_score(Y_test,Logistic_pred),Logistic_scores.max(),\\\n",
    "                                Logistic_f1]\n",
    "\n",
    "result['Random Forest'] = [accuracy_score(Y_test,RFC_pred), RFC_scores.max(), RFC_f1]\n",
    "\n",
    "result['Decision Tree'] = [accuracy_score(Y_test,DT_pred), DT_scores.max(), DT_f1]\n",
    "\n",
    "result['SVC'] = [accuracy_score(Y_test,SVC_pred), SVC_scores.max(), SVC_f1]"
   ]
  },
  {
   "cell_type": "code",
   "execution_count": 283,
   "id": "6da59bb1",
   "metadata": {},
   "outputs": [
    {
     "data": {
      "text/html": [
       "<div>\n",
       "<style scoped>\n",
       "    .dataframe tbody tr th:only-of-type {\n",
       "        vertical-align: middle;\n",
       "    }\n",
       "\n",
       "    .dataframe tbody tr th {\n",
       "        vertical-align: top;\n",
       "    }\n",
       "\n",
       "    .dataframe thead th {\n",
       "        text-align: right;\n",
       "    }\n",
       "</style>\n",
       "<table border=\"1\" class=\"dataframe\">\n",
       "  <thead>\n",
       "    <tr style=\"text-align: right;\">\n",
       "      <th></th>\n",
       "      <th>Logistic Regression</th>\n",
       "      <th>Random Forest</th>\n",
       "      <th>Decision Tree</th>\n",
       "      <th>SVC</th>\n",
       "    </tr>\n",
       "  </thead>\n",
       "  <tbody>\n",
       "    <tr>\n",
       "      <th>Accuracy</th>\n",
       "      <td>0.683635</td>\n",
       "      <td>0.877305</td>\n",
       "      <td>0.847120</td>\n",
       "      <td>0.678088</td>\n",
       "    </tr>\n",
       "    <tr>\n",
       "      <th>Accuracy(10 fold cross validation)</th>\n",
       "      <td>0.704731</td>\n",
       "      <td>0.843393</td>\n",
       "      <td>0.792822</td>\n",
       "      <td>0.698206</td>\n",
       "    </tr>\n",
       "    <tr>\n",
       "      <th>f1 score</th>\n",
       "      <td>0.801596</td>\n",
       "      <td>0.909897</td>\n",
       "      <td>0.885214</td>\n",
       "      <td>0.800727</td>\n",
       "    </tr>\n",
       "  </tbody>\n",
       "</table>\n",
       "</div>"
      ],
      "text/plain": [
       "                                    Logistic Regression  Random Forest  \\\n",
       "Accuracy                                       0.683635       0.877305   \n",
       "Accuracy(10 fold cross validation)             0.704731       0.843393   \n",
       "f1 score                                       0.801596       0.909897   \n",
       "\n",
       "                                    Decision Tree       SVC  \n",
       "Accuracy                                 0.847120  0.678088  \n",
       "Accuracy(10 fold cross validation)       0.792822  0.698206  \n",
       "f1 score                                 0.885214  0.800727  "
      ]
     },
     "execution_count": 283,
     "metadata": {},
     "output_type": "execute_result"
    }
   ],
   "source": [
    "result"
   ]
  },
  {
   "cell_type": "code",
   "execution_count": null,
   "id": "763a8ebd",
   "metadata": {},
   "outputs": [],
   "source": []
  },
  {
   "cell_type": "code",
   "execution_count": null,
   "id": "13a5bcf5",
   "metadata": {},
   "outputs": [],
   "source": []
  },
  {
   "cell_type": "code",
   "execution_count": null,
   "id": "f9914f3f",
   "metadata": {},
   "outputs": [],
   "source": []
  },
  {
   "cell_type": "code",
   "execution_count": null,
   "id": "5dc3746a",
   "metadata": {},
   "outputs": [],
   "source": []
  },
  {
   "cell_type": "code",
   "execution_count": null,
   "id": "68b8f127",
   "metadata": {},
   "outputs": [],
   "source": []
  }
 ],
 "metadata": {
  "kernelspec": {
   "display_name": "Python 3",
   "language": "python",
   "name": "python3"
  },
  "language_info": {
   "codemirror_mode": {
    "name": "ipython",
    "version": 3
   },
   "file_extension": ".py",
   "mimetype": "text/x-python",
   "name": "python",
   "nbconvert_exporter": "python",
   "pygments_lexer": "ipython3",
   "version": "3.7.10"
  }
 },
 "nbformat": 4,
 "nbformat_minor": 5
}
